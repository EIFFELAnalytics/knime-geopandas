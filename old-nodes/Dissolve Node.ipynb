{
 "cells": [
  {
   "cell_type": "markdown",
   "metadata": {},
   "source": [
    "# Dissolve Node\n",
    "1 -> 1\n",
    "\n",
    "Documentation: http://geopandas.org/aggregation_with_dissolve.html\n",
    "\n",
    "Aggregeren met `dissolve` is vergelijkbaar met `groupby`, maar dan groepeer je op geografisch niveau.\n",
    "\n",
    "*Note:* Pas `byColumn` aan naar de kolomnaam waarop gegroepeerd moet worden."
   ]
  },
  {
   "cell_type": "code",
   "execution_count": 9,
   "metadata": {},
   "outputs": [],
   "source": [
    "###\n",
    "### USER DEFINED\n",
    "###\n",
    "\n",
    "# Group by welke kolom?\n",
    "byColumn = 'segmentCode'"
   ]
  },
  {
   "cell_type": "code",
   "execution_count": 2,
   "metadata": {},
   "outputs": [],
   "source": [
    "###\n",
    "### HEADER\n",
    "###\n",
    "import geopandas as gpd\n",
    "import pandas as pd\n",
    "from shapely import wkt as WKT\n",
    "import re\n",
    "import numpy as np\n",
    "\n",
    "# geopandas (geometry) to pandas (wkt)\n",
    "def gdfToDf(gdf):\n",
    "    df = pd.DataFrame(gdf, copy=True)\n",
    "    df['wkt'] = gdf.geometry.apply(WKT.dumps, trim=True)\n",
    "    df.drop(columns='geometry', inplace=True)\n",
    "    return df\n",
    "\n",
    "# pandas (wkt) to geopandas (geometry)\n",
    "def dfToGdf(df):\n",
    "    gdf = gpd.GeoDataFrame(df, copy=True)\n",
    "    gdf['geometry'] = df.wkt.apply(WKT.loads)\n",
    "    gdf.drop(columns='wkt', inplace=True)\n",
    "    return gdf\n",
    "\n",
    "# bereken wat extra info (vind ik interessant)\n",
    "def extractInfo(wkt, *args):\n",
    "    # calculate specs\n",
    "    info = {'points': len(wkt.split(',')),\\\n",
    "            'chars': len(wkt),\\\n",
    "            'precision': np.mean([len(decimals) for decimals in re.findall('\\.([0-9]*)', wkt)])}\n",
    "    # return dictionary or list with values of one spec\n",
    "    if not args:\n",
    "        return info\n",
    "    else:\n",
    "        return info.get(args[0])"
   ]
  },
  {
   "cell_type": "code",
   "execution_count": 18,
   "metadata": {},
   "outputs": [
    {
     "name": "stdout",
     "output_type": "stream",
     "text": [
      "Shape input_table: (380, 5)\n",
      "Shape output_table: (2, 5)\n"
     ]
    }
   ],
   "source": [
    "###\n",
    "### DISSOLVE\n",
    "###\n",
    "\n",
    "# input\n",
    "gdf = dfToGdf(input_table)\n",
    "print('Shape input_table:', input_table.shape)\n",
    "#print('Average # points/polygon: %.1f' % np.mean(input_table.wkt.apply(extractInfo, args=('points',))))\n",
    "\n",
    "# group by and dissolve the geometry\n",
    "gdf = gdf.dissolve(by=byColumn)\n",
    "\n",
    "# reset index naar kolom\n",
    "gdf.reset_index(inplace=True)\n",
    "\n",
    "# output\n",
    "output_table = gdfToDf(gdf)\n",
    "print('Shape output_table:', output_table.shape)\n",
    "#print('Average # points/polygon: %.1f' % np.mean(output_table.wkt.apply(extractInfo, args=('points',))))"
   ]
  },
  {
   "cell_type": "code",
   "execution_count": 19,
   "metadata": {},
   "outputs": [
    {
     "name": "stdout",
     "output_type": "stream",
     "text": [
      "Preview output_table (first 5 rows):\n"
     ]
    },
    {
     "data": {
      "text/html": [
       "<div>\n",
       "<style scoped>\n",
       "    .dataframe tbody tr th:only-of-type {\n",
       "        vertical-align: middle;\n",
       "    }\n",
       "\n",
       "    .dataframe tbody tr th {\n",
       "        vertical-align: top;\n",
       "    }\n",
       "\n",
       "    .dataframe thead th {\n",
       "        text-align: right;\n",
       "    }\n",
       "</style>\n",
       "<table border=\"1\" class=\"dataframe\">\n",
       "  <thead>\n",
       "    <tr style=\"text-align: right;\">\n",
       "      <th></th>\n",
       "      <th>segmentCode</th>\n",
       "      <th>id</th>\n",
       "      <th>code</th>\n",
       "      <th>gemeentena</th>\n",
       "      <th>wkt</th>\n",
       "    </tr>\n",
       "  </thead>\n",
       "  <tbody>\n",
       "    <tr>\n",
       "      <th>0</th>\n",
       "      <td>0</td>\n",
       "      <td>1</td>\n",
       "      <td>0584</td>\n",
       "      <td>Oud-Beijerland</td>\n",
       "      <td>MULTIPOLYGON (((5.944128574752759 50.774086851...</td>\n",
       "    </tr>\n",
       "    <tr>\n",
       "      <th>1</th>\n",
       "      <td>1</td>\n",
       "      <td>20</td>\n",
       "      <td>1931</td>\n",
       "      <td>Krimpenerwaard</td>\n",
       "      <td>MULTIPOLYGON (((5.859968485978875 50.834518276...</td>\n",
       "    </tr>\n",
       "  </tbody>\n",
       "</table>\n",
       "</div>"
      ],
      "text/plain": [
       "  segmentCode  id  code      gemeentena  \\\n",
       "0           0   1  0584  Oud-Beijerland   \n",
       "1           1  20  1931  Krimpenerwaard   \n",
       "\n",
       "                                                 wkt  \n",
       "0  MULTIPOLYGON (((5.944128574752759 50.774086851...  \n",
       "1  MULTIPOLYGON (((5.859968485978875 50.834518276...  "
      ]
     },
     "metadata": {},
     "output_type": "display_data"
    }
   ],
   "source": [
    "###\n",
    "### FOOTER\n",
    "###\n",
    "print('Preview output_table (first 5 rows):')\n",
    "try:\n",
    "    # try pretty print in Jupyter Notebook\n",
    "    display(output_table.head())\n",
    "except NameError:\n",
    "    print(output_table.head())"
   ]
  },
  {
   "cell_type": "markdown",
   "metadata": {},
   "source": [
    "## Testing and showing results\n",
    "Don't add this in KNIME"
   ]
  },
  {
   "cell_type": "code",
   "execution_count": 17,
   "metadata": {},
   "outputs": [
    {
     "data": {
      "text/plain": [
       "<matplotlib.axes._subplots.AxesSubplot at 0x7fcd53942cc0>"
      ]
     },
     "execution_count": 17,
     "metadata": {},
     "output_type": "execute_result"
    },
    {
     "data": {
      "image/png": "[encoded data removed]",
      "text/plain": [
       "<Figure size 432x288 with 1 Axes>"
      ]
     },
     "metadata": {},
     "output_type": "display_data"
    }
   ],
   "source": [
    "%matplotlib inline\n",
    "gdf.reset_index().plot(column=byColumn)"
   ]
  },
  {
   "cell_type": "markdown",
   "metadata": {},
   "source": [
    "## Load some input data to test the cells above\n",
    "Run `Header` node first!"
   ]
  },
  {
   "cell_type": "code",
   "execution_count": 5,
   "metadata": {},
   "outputs": [
    {
     "data": {
      "text/html": [
       "<div>\n",
       "<style scoped>\n",
       "    .dataframe tbody tr th:only-of-type {\n",
       "        vertical-align: middle;\n",
       "    }\n",
       "\n",
       "    .dataframe tbody tr th {\n",
       "        vertical-align: top;\n",
       "    }\n",
       "\n",
       "    .dataframe thead th {\n",
       "        text-align: right;\n",
       "    }\n",
       "</style>\n",
       "<table border=\"1\" class=\"dataframe\">\n",
       "  <thead>\n",
       "    <tr style=\"text-align: right;\">\n",
       "      <th></th>\n",
       "      <th>id</th>\n",
       "      <th>code</th>\n",
       "      <th>gemeentena</th>\n",
       "      <th>wkt</th>\n",
       "    </tr>\n",
       "  </thead>\n",
       "  <tbody>\n",
       "    <tr>\n",
       "      <th>0</th>\n",
       "      <td>1</td>\n",
       "      <td>0584</td>\n",
       "      <td>Oud-Beijerland</td>\n",
       "      <td>POLYGON ((4.389077541324618 51.81595048427736,...</td>\n",
       "    </tr>\n",
       "    <tr>\n",
       "      <th>1</th>\n",
       "      <td>18</td>\n",
       "      <td>0160</td>\n",
       "      <td>Hardenberg</td>\n",
       "      <td>POLYGON ((6.581660781672937 52.6705222681641, ...</td>\n",
       "    </tr>\n",
       "    <tr>\n",
       "      <th>2</th>\n",
       "      <td>19</td>\n",
       "      <td>0327</td>\n",
       "      <td>Leusden</td>\n",
       "      <td>POLYGON ((5.414567311519748 52.14943909543469,...</td>\n",
       "    </tr>\n",
       "    <tr>\n",
       "      <th>3</th>\n",
       "      <td>20</td>\n",
       "      <td>1931</td>\n",
       "      <td>Krimpenerwaard</td>\n",
       "      <td>POLYGON ((4.650163088417819 51.97439446940142,...</td>\n",
       "    </tr>\n",
       "    <tr>\n",
       "      <th>4</th>\n",
       "      <td>21</td>\n",
       "      <td>1701</td>\n",
       "      <td>Westerveld</td>\n",
       "      <td>POLYGON ((6.171951868202824 52.81632642248949,...</td>\n",
       "    </tr>\n",
       "  </tbody>\n",
       "</table>\n",
       "</div>"
      ],
      "text/plain": [
       "   id  code      gemeentena                                                wkt\n",
       "0   1  0584  Oud-Beijerland  POLYGON ((4.389077541324618 51.81595048427736,...\n",
       "1  18  0160      Hardenberg  POLYGON ((6.581660781672937 52.6705222681641, ...\n",
       "2  19  0327         Leusden  POLYGON ((5.414567311519748 52.14943909543469,...\n",
       "3  20  1931  Krimpenerwaard  POLYGON ((4.650163088417819 51.97439446940142,...\n",
       "4  21  1701      Westerveld  POLYGON ((6.171951868202824 52.81632642248949,..."
      ]
     },
     "execution_count": 5,
     "metadata": {},
     "output_type": "execute_result"
    }
   ],
   "source": [
    "###\n",
    "### SOURCE - ONLY FOR PREPARATION\n",
    "###\n",
    "from os.path import join\n",
    "folder = '/home/ab/i/Open-data/shapefiles/shp-gemeente'\n",
    "filename = 'gemeente-grenzen.shp'\n",
    "\n",
    "# read the file\n",
    "gdf = gpd.read_file( join(folder, filename) )\n",
    "gdf = gdf.to_crs(epsg=4326)    # WGS84\n",
    "\n",
    "# output\n",
    "output_table = gdfToDf(gdf)\n",
    "\n",
    "# copy output to input\n",
    "input_table = output_table.copy()"
   ]
  },
  {
   "cell_type": "code",
   "execution_count": 7,
   "metadata": {},
   "outputs": [
    {
     "data": {
      "text/html": [
       "<div>\n",
       "<style scoped>\n",
       "    .dataframe tbody tr th:only-of-type {\n",
       "        vertical-align: middle;\n",
       "    }\n",
       "\n",
       "    .dataframe tbody tr th {\n",
       "        vertical-align: top;\n",
       "    }\n",
       "\n",
       "    .dataframe thead th {\n",
       "        text-align: right;\n",
       "    }\n",
       "</style>\n",
       "<table border=\"1\" class=\"dataframe\">\n",
       "  <thead>\n",
       "    <tr style=\"text-align: right;\">\n",
       "      <th></th>\n",
       "      <th>id</th>\n",
       "      <th>code</th>\n",
       "      <th>gemeentena</th>\n",
       "      <th>wkt</th>\n",
       "      <th>segmentCode</th>\n",
       "    </tr>\n",
       "  </thead>\n",
       "  <tbody>\n",
       "    <tr>\n",
       "      <th>0</th>\n",
       "      <td>1</td>\n",
       "      <td>0584</td>\n",
       "      <td>Oud-Beijerland</td>\n",
       "      <td>POLYGON ((4.389077541324618 51.81595048427736,...</td>\n",
       "      <td>0</td>\n",
       "    </tr>\n",
       "    <tr>\n",
       "      <th>1</th>\n",
       "      <td>18</td>\n",
       "      <td>0160</td>\n",
       "      <td>Hardenberg</td>\n",
       "      <td>POLYGON ((6.581660781672937 52.6705222681641, ...</td>\n",
       "      <td>0</td>\n",
       "    </tr>\n",
       "    <tr>\n",
       "      <th>2</th>\n",
       "      <td>19</td>\n",
       "      <td>0327</td>\n",
       "      <td>Leusden</td>\n",
       "      <td>POLYGON ((5.414567311519748 52.14943909543469,...</td>\n",
       "      <td>0</td>\n",
       "    </tr>\n",
       "    <tr>\n",
       "      <th>3</th>\n",
       "      <td>20</td>\n",
       "      <td>1931</td>\n",
       "      <td>Krimpenerwaard</td>\n",
       "      <td>POLYGON ((4.650163088417819 51.97439446940142,...</td>\n",
       "      <td>1</td>\n",
       "    </tr>\n",
       "    <tr>\n",
       "      <th>4</th>\n",
       "      <td>21</td>\n",
       "      <td>1701</td>\n",
       "      <td>Westerveld</td>\n",
       "      <td>POLYGON ((6.171951868202824 52.81632642248949,...</td>\n",
       "      <td>1</td>\n",
       "    </tr>\n",
       "  </tbody>\n",
       "</table>\n",
       "</div>"
      ],
      "text/plain": [
       "   id  code      gemeentena  \\\n",
       "0   1  0584  Oud-Beijerland   \n",
       "1  18  0160      Hardenberg   \n",
       "2  19  0327         Leusden   \n",
       "3  20  1931  Krimpenerwaard   \n",
       "4  21  1701      Westerveld   \n",
       "\n",
       "                                                 wkt segmentCode  \n",
       "0  POLYGON ((4.389077541324618 51.81595048427736,...           0  \n",
       "1  POLYGON ((6.581660781672937 52.6705222681641, ...           0  \n",
       "2  POLYGON ((5.414567311519748 52.14943909543469,...           0  \n",
       "3  POLYGON ((4.650163088417819 51.97439446940142,...           1  \n",
       "4  POLYGON ((6.171951868202824 52.81632642248949,...           1  "
      ]
     },
     "execution_count": 7,
     "metadata": {},
     "output_type": "execute_result"
    }
   ],
   "source": [
    "# gebruik voor nu even het 1e getal in de kolom code om te groeperen. Ik weet niet of dat ook echt iets betekent...\n",
    "input_table['segmentCode'] = input_table.code.str[:1]\n",
    "\n",
    "# check\n",
    "input_table.head()"
   ]
  }
 ],
 "metadata": {
  "kernelspec": {
   "display_name": "Python 3",
   "language": "python",
   "name": "python3"
  },
  "language_info": {
   "codemirror_mode": {
    "name": "ipython",
    "version": 3
   },
   "file_extension": ".py",
   "mimetype": "text/x-python",
   "name": "python",
   "nbconvert_exporter": "python",
   "pygments_lexer": "ipython3",
   "version": "3.6.4"
  }
 },
 "nbformat": 4,
 "nbformat_minor": 2
}
