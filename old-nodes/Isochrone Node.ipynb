{
 "cells": [
  {
   "cell_type": "markdown",
   "metadata": {},
   "source": [
    "## Isochrone Node\n",
    "Wat is een [isochrone](https://en.wiktionary.org/wiki/isochrone)?\n",
    "\n",
    "1 -> 1\n",
    "\n",
    "Documentatie Open Route Service (ORS) Python Client: http://openrouteservice-py.readthedocs.io/en/latest/  \n",
    "Documentatie ORS Isochrones: https://openrouteservice.org/documentation/#/reference/isochrones\n",
    "\n",
    "*Vereiste:* `input_table` met `wkt`-kolom met punten.\n",
    "\n",
    "*Note:* Pas de time range (`drivingTime`) aan."
   ]
  },
  {
   "cell_type": "code",
   "execution_count": 2,
   "metadata": {},
   "outputs": [],
   "source": [
    "###\n",
    "### USER DEFINED\n",
    "###\n",
    "\n",
    "# Driving time in minutes\n",
    "drivingTime = 10"
   ]
  },
  {
   "cell_type": "code",
   "execution_count": 3,
   "metadata": {},
   "outputs": [],
   "source": [
    "###\n",
    "### HEADER\n",
    "###\n",
    "import pandas as pd\n",
    "from shapely.geometry import Polygon, Point\n",
    "from shapely import wkt as WKT\n",
    "import openrouteservice\n",
    "from openrouteservice.isochrones import isochrones\n",
    "\n",
    "# initialize ORS with the github ab-os account\n",
    "ORS = openrouteservice.Client(key='58d904a497c67e00015b45fc45f368a7463145e7be57c7563a900810')\n",
    "\n",
    "# define the get isochrone function from WKT point\n",
    "def getIsochrone(point, drivingTime): \n",
    "    # extract long lat coordinates from WKT\n",
    "    longLat = wktToLongLat(point)\n",
    "    # create the ORS isochrone from te long lat coords\n",
    "    isochrone = isochrones(ORS, locations=longLat, intervals=[drivingTime*60], segments=[])\n",
    "    # convert XML (eigenlijk dictionary) to Polygon to WKT\n",
    "    return WKT.dumps(Polygon([(xy[0], xy[1]) for xy in isochrone['features'][0]['geometry']['coordinates'][0]]), trim=True)\n",
    "\n",
    "# from point (WKT) to longLat (tuple)\n",
    "def wktToLongLat(point):\n",
    "    # eerst van WKT naar geometry\n",
    "    geom = WKT.loads(point)\n",
    "    # dan naar tuple (long, lat)\n",
    "    return (geom.x, geom.y)"
   ]
  },
  {
   "cell_type": "code",
   "execution_count": 4,
   "metadata": {},
   "outputs": [
    {
     "name": "stdout",
     "output_type": "stream",
     "text": [
      "Shape input_table: (2, 2)\n",
      "Shape output_table: (2, 2)\n"
     ]
    }
   ],
   "source": [
    "###\n",
    "### ISOCHRONE\n",
    "###\n",
    "    \n",
    "# start off by copying the input table\n",
    "print('Shape input_table:', input_table.shape)\n",
    "output_table = input_table.copy()\n",
    "\n",
    "# get isochrones\n",
    "output_table['wkt'] = output_table.wkt.apply(getIsochrone, args=(drivingTime,))\n",
    "\n",
    "# output\n",
    "print('Shape output_table:', output_table.shape)"
   ]
  },
  {
   "cell_type": "code",
   "execution_count": 5,
   "metadata": {},
   "outputs": [
    {
     "name": "stdout",
     "output_type": "stream",
     "text": [
      "Preview output_table (first 5 rows):\n"
     ]
    },
    {
     "data": {
      "text/html": [
       "<div>\n",
       "<style scoped>\n",
       "    .dataframe tbody tr th:only-of-type {\n",
       "        vertical-align: middle;\n",
       "    }\n",
       "\n",
       "    .dataframe tbody tr th {\n",
       "        vertical-align: top;\n",
       "    }\n",
       "\n",
       "    .dataframe thead th {\n",
       "        text-align: right;\n",
       "    }\n",
       "</style>\n",
       "<table border=\"1\" class=\"dataframe\">\n",
       "  <thead>\n",
       "    <tr style=\"text-align: right;\">\n",
       "      <th></th>\n",
       "      <th>locatie</th>\n",
       "      <th>wkt</th>\n",
       "    </tr>\n",
       "  </thead>\n",
       "  <tbody>\n",
       "    <tr>\n",
       "      <th>0</th>\n",
       "      <td>EIFFEL Arnhem</td>\n",
       "      <td>POLYGON ((5.293363 52.115799, 5.294052 52.1122...</td>\n",
       "    </tr>\n",
       "    <tr>\n",
       "      <th>1</th>\n",
       "      <td>EIFFEL Eindhoven</td>\n",
       "      <td>POLYGON ((5.308315 51.492356, 5.309227 51.4921...</td>\n",
       "    </tr>\n",
       "  </tbody>\n",
       "</table>\n",
       "</div>"
      ],
      "text/plain": [
       "            locatie                                                wkt\n",
       "0     EIFFEL Arnhem  POLYGON ((5.293363 52.115799, 5.294052 52.1122...\n",
       "1  EIFFEL Eindhoven  POLYGON ((5.308315 51.492356, 5.309227 51.4921..."
      ]
     },
     "metadata": {},
     "output_type": "display_data"
    }
   ],
   "source": [
    "###\n",
    "### FOOTER\n",
    "###\n",
    "print('Preview output_table (first 5 rows):')\n",
    "try:\n",
    "    # try pretty print in Jupyter Notebook\n",
    "    display(output_table.head())\n",
    "except NameError:\n",
    "    print(output_table.head())"
   ]
  },
  {
   "cell_type": "markdown",
   "metadata": {},
   "source": [
    "## Load some input data to test the cells above"
   ]
  },
  {
   "cell_type": "code",
   "execution_count": 1,
   "metadata": {},
   "outputs": [
    {
     "data": {
      "text/html": [
       "<div>\n",
       "<style scoped>\n",
       "    .dataframe tbody tr th:only-of-type {\n",
       "        vertical-align: middle;\n",
       "    }\n",
       "\n",
       "    .dataframe tbody tr th {\n",
       "        vertical-align: top;\n",
       "    }\n",
       "\n",
       "    .dataframe thead th {\n",
       "        text-align: right;\n",
       "    }\n",
       "</style>\n",
       "<table border=\"1\" class=\"dataframe\">\n",
       "  <thead>\n",
       "    <tr style=\"text-align: right;\">\n",
       "      <th></th>\n",
       "      <th>locatie</th>\n",
       "      <th>wkt</th>\n",
       "    </tr>\n",
       "  </thead>\n",
       "  <tbody>\n",
       "    <tr>\n",
       "      <th>0</th>\n",
       "      <td>EIFFEL Arnhem</td>\n",
       "      <td>POINT (5.38782 52.15611)</td>\n",
       "    </tr>\n",
       "    <tr>\n",
       "      <th>1</th>\n",
       "      <td>EIFFEL Eindhoven</td>\n",
       "      <td>POINT (5.46122 51.44491)</td>\n",
       "    </tr>\n",
       "  </tbody>\n",
       "</table>\n",
       "</div>"
      ],
      "text/plain": [
       "            locatie                       wkt\n",
       "0     EIFFEL Arnhem  POINT (5.38782 52.15611)\n",
       "1  EIFFEL Eindhoven  POINT (5.46122 51.44491)"
      ]
     },
     "execution_count": 1,
     "metadata": {},
     "output_type": "execute_result"
    }
   ],
   "source": [
    "###\n",
    "### SOURCE - ONLY FOR PREPARATION\n",
    "###\n",
    "import pandas as pd\n",
    "input_table = pd.DataFrame(data={'locatie': ['EIFFEL Arnhem', 'EIFFEL Eindhoven'],\\\n",
    "                                 'wkt': ['POINT (5.38782 52.15611)', 'POINT (5.46122 51.44491)']})\n",
    "\n",
    "# check\n",
    "input_table"
   ]
  }
 ],
 "metadata": {
  "kernelspec": {
   "display_name": "Python 3",
   "language": "python",
   "name": "python3"
  },
  "language_info": {
   "codemirror_mode": {
    "name": "ipython",
    "version": 3
   },
   "file_extension": ".py",
   "mimetype": "text/x-python",
   "name": "python",
   "nbconvert_exporter": "python",
   "pygments_lexer": "ipython3",
   "version": "3.6.4"
  }
 },
 "nbformat": 4,
 "nbformat_minor": 2
}
