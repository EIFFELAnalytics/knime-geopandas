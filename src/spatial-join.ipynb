{
 "cells": [
  {
   "cell_type": "markdown",
   "metadata": {},
   "source": [
    "# Spatial Join Node\n",
    "2 -> 1\n",
    "\n",
    "Documentation: http://geopandas.org/mergingdata.html#spatial-joins\n",
    "\n",
    "Samenvoegen met een spatial join (```sjoin```) is vergelijkbaar als tabellen joinen, maar dan op geografisch niveau."
   ]
  },
  {
   "cell_type": "code",
   "execution_count": null,
   "metadata": {
    "tags": [
     "develop"
    ]
   },
   "outputs": [],
   "source": [
    "# Read from input/output table\n",
    "import pandas as pd\n",
    "input_table_1 = pd.read_csv('~/Documents/Open-data/shapefiles/wkt-csv/noord-holland-grens.csv')\n",
    "input_table_2 = pd.read_csv('~/Documents/Open-data/shapefiles/wkt-csv/gemeente-grenzen.csv')"
   ]
  },
  {
   "cell_type": "code",
   "execution_count": null,
   "metadata": {},
   "outputs": [],
   "source": [
    "# SPATIAL JOIN NODE\n",
    "import geopandas as gpd\n",
    "from convert import df_to_gdf, gdf_to_df\n",
    "\n",
    "# Read input\n",
    "gdf1 = df_to_gdf(input_table_1)\n",
    "gdf2 = df_to_gdf(input_table_2)\n",
    "\n",
    "# Spatial join. Choose the operation (“intersects”, “within” or “contains”) and join type.\n",
    "# See http://geopandas.org/mergingdata.html#spatial-joins\n",
    "# `gdf` takes the geometry column of `gdf1`.\n",
    "gdf = gpd.sjoin(gdf1, gdf2, op='within', how='inner')\n",
    "\n",
    "# Output\n",
    "output_table = gdf_to_df(gdf)"
   ]
  },
  {
   "cell_type": "code",
   "execution_count": null,
   "metadata": {
    "tags": [
     "develop"
    ]
   },
   "outputs": [],
   "source": [
    "# Write to input/output table\n",
    "output_table.to_csv('io-table.csv', index = False)\n",
    "\n",
    "# Show please\n",
    "%matplotlib inline\n",
    "gdf.plot(figsize = (10,10), column = group_by_column);"
   ]
  }
 ],
 "metadata": {
  "celltoolbar": "Tags",
  "kernelspec": {
   "display_name": "Python 3",
   "language": "python",
   "name": "python3"
  },
  "language_info": {
   "codemirror_mode": {
    "name": "ipython",
    "version": 3
   },
   "file_extension": ".py",
   "mimetype": "text/x-python",
   "name": "python",
   "nbconvert_exporter": "python",
   "pygments_lexer": "ipython3",
   "version": "3.7.1"
  }
 },
 "nbformat": 4,
 "nbformat_minor": 2
}
