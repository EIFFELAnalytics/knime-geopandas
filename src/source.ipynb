{
 "cells": [
  {
   "cell_type": "markdown",
   "metadata": {
    "papermill": {
     "duration": 0.04634,
     "end_time": "2019-02-06T14:28:54.104412",
     "exception": false,
     "start_time": "2019-02-06T14:28:54.058072",
     "status": "completed"
    },
    "tags": []
   },
   "source": [
    "# Source Node\n",
    "0 -> 1\n",
    "\n",
    "Documentation: http://geopandas.org/io.html"
   ]
  },
  {
   "cell_type": "code",
   "execution_count": null,
   "metadata": {
    "papermill": {
     "duration": 1.874825,
     "end_time": "2019-02-06T14:28:56.093973",
     "exception": false,
     "start_time": "2019-02-06T14:28:54.219148",
     "status": "completed"
    },
    "tags": []
   },
   "outputs": [],
   "source": [
    "# PARAMETERS\n",
    "# Gebruik altijd raw strings (r''). Forward slash (/) of backslash (\\) maakt niet uit hier.\n",
    "folder = r'C:/Users/abos/Documents/Open-data/shapefiles/shp-provincie-zonder-kustlijn'\n",
    "filename = r'provincie-grenzen-zonder-kustlijn.shp'\n",
    "\n",
    "# SOURCE NODE\n",
    "from os.path import join\n",
    "import geopandas as gpd\n",
    "from convert import gdf_to_df\n",
    "\n",
    "# Read the file\n",
    "print('Reading file:', join(folder, filename))\n",
    "gdf = gpd.read_file( join(folder, filename) )\n",
    "\n",
    "# Reproject to coordinate reference system WGS84 (long/lat)\n",
    "# This HAS to be done here, because we'll lose the CRS when proceeding to the next node\n",
    "# WGS84 is the official standard for GeoJSON: https://tools.ietf.org/html/rfc7946#section-4\n",
    "wgs84 = {'init': 'epsg:4326'}\n",
    "if gdf.crs != wgs84:\n",
    "    print('Reprojecting to WGS84...')\n",
    "    # In case of error, downgrading fiona to 1.7 might help\n",
    "    gdf.to_crs(wgs84, inplace = True)\n",
    "\n",
    "# Output\n",
    "output_table = gdf_to_df(gdf)"
   ]
  },
  {
   "cell_type": "markdown",
   "metadata": {
    "papermill": {
     "duration": 0.017419,
     "end_time": "2019-02-06T14:28:56.167464",
     "exception": false,
     "start_time": "2019-02-06T14:28:56.150045",
     "status": "completed"
    },
    "tags": []
   },
   "source": [
    "## Develop\n",
    "Below is for development purposes only. Writing to and reading from a CSV file enables me to mimic `input_table` and `output_table` in KNIME."
   ]
  },
  {
   "cell_type": "code",
   "execution_count": null,
   "metadata": {
    "tags": [
     "develop"
    ]
   },
   "outputs": [],
   "source": [
    "# Write to input/output table\n",
    "output_table.to_csv('io-table.csv', index = False)\n",
    "\n",
    "# Show please\n",
    "display(output_table.head())\n",
    "%matplotlib inline\n",
    "gdf.plot(figsize = (10, 10));"
   ]
  },
  {
   "cell_type": "markdown",
   "metadata": {
    "papermill": {
     "duration": 0.019921,
     "end_time": "2019-02-06T14:28:56.132538",
     "exception": false,
     "start_time": "2019-02-06T14:28:56.112617",
     "status": "completed"
    },
    "tags": []
   },
   "source": [
    "Q: Is CRS really lost when converted to `df`?\n",
    "\n",
    "A: Yes I think so. Even when converted to GeoJSON. See the link in the source code above."
   ]
  }
 ],
 "metadata": {
  "kernelspec": {
   "display_name": "py36_knime_kernel",
   "language": "python",
   "name": "py36_knime_kernel"
  },
  "language_info": {
   "codemirror_mode": {
    "name": "ipython",
    "version": 3
   },
   "file_extension": ".py",
   "mimetype": "text/x-python",
   "name": "python",
   "nbconvert_exporter": "python",
   "pygments_lexer": "ipython3",
   "version": "3.6.8"
  },
  "papermill": {
   "duration": 5.474637,
   "end_time": "2019-02-06T14:28:58.460680",
   "environment_variables": {},
   "exception": null,
   "input_path": "Source Node.ipynb",
   "output_path": "Source Node.ipynb",
   "parameters": {
    "filename": "provincie-grenzen.shp",
    "folder": "/home/ab/Documents/Open-data/shapefiles/shp-provincie"
   },
   "start_time": "2019-02-06T14:28:52.986043",
   "version": "0.17.1"
  }
 },
 "nbformat": 4,
 "nbformat_minor": 2
}
