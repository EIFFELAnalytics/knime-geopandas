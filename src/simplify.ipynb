{
 "cells": [
  {
   "cell_type": "markdown",
   "metadata": {},
   "source": [
    "# Simplify Node\n",
    "1 -> 1\n",
    "\n",
    "Documentation: https://toblerity.org/shapely/manual.html#object.simplify"
   ]
  },
  {
   "cell_type": "code",
   "execution_count": null,
   "metadata": {
    "papermill": {
     "duration": 0.588692,
     "end_time": "2019-02-06T14:29:25.219177",
     "exception": false,
     "start_time": "2019-02-06T14:29:24.630485",
     "status": "completed"
    },
    "tags": [
     "develop"
    ]
   },
   "outputs": [],
   "source": [
    "# Read from input/output table\n",
    "import pandas as pd\n",
    "input_table = pd.read_csv('io-table.csv')"
   ]
  },
  {
   "cell_type": "code",
   "execution_count": null,
   "metadata": {},
   "outputs": [],
   "source": [
    "# PARAMETERS\n",
    "# Het versimpelde polygoon mag `tolerance` (in graden) afwijken van het origineel.\n",
    "# In Nederland: 1 m ~= 1e-5 graden\n",
    "tolerance = 1e-5\n",
    "\n",
    "# SIMPLIFY\n",
    "import geopandas as gpd\n",
    "from convert import df_to_gdf, gdf_to_df\n",
    "\n",
    "# Read input\n",
    "gdf = df_to_gdf(input_table)\n",
    "\n",
    "# Simplify with fixed threshold\n",
    "gdf.geometry = gdf.geometry.simplify(tolerance, preserve_topology=True)\n",
    "\n",
    "# Dynamic simplify. Threshold is 0.1% van de omtrek\n",
    "#dynamic_simplify = lambda geom: geom.simplify(geom.length*0.001, preserve_topology=True)\n",
    "#gdf.geometry = gdf.geometry.apply(dynamic_simplify)\n",
    "\n",
    "# Output\n",
    "output_table = gdf_to_df(gdf)"
   ]
  },
  {
   "cell_type": "code",
   "execution_count": null,
   "metadata": {
    "tags": [
     "develop"
    ]
   },
   "outputs": [],
   "source": [
    "# Write to input/output table\n",
    "output_table.to_csv('io-table.csv', index=False)\n",
    "\n",
    "# Show please\n",
    "%matplotlib inline\n",
    "gdf.plot(figsize=(10,10));"
   ]
  }
 ],
 "metadata": {
  "kernelspec": {
   "display_name": "knime",
   "language": "python",
   "name": "knime"
  },
  "language_info": {
   "codemirror_mode": {
    "name": "ipython",
    "version": 3
   },
   "file_extension": ".py",
   "mimetype": "text/x-python",
   "name": "python",
   "nbconvert_exporter": "python",
   "pygments_lexer": "ipython3",
   "version": "3.7.2"
  }
 },
 "nbformat": 4,
 "nbformat_minor": 2
}
