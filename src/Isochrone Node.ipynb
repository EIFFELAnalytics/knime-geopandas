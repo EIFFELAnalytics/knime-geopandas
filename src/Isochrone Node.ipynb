{
 "cells": [
  {
   "cell_type": "markdown",
   "metadata": {},
   "source": [
    "## Isochrone Node\n",
    "Wat is een [isochrone](https://en.wiktionary.org/wiki/isochrone)?\n",
    "\n",
    "1 -> 1\n",
    "\n",
    "Documentatie Open Route Service Isochrones: https://openrouteservice.org/documentation/#/reference/isochrones\n",
    "Documentatie Open Route Service Python: http://openrouteservice-py.readthedocs.io/en/latest/"
   ]
  },
  {
   "cell_type": "code",
   "execution_count": 52,
   "metadata": {
    "papermill": {
     "duration": 0.588692,
     "end_time": "2019-02-06T14:29:25.219177",
     "exception": false,
     "start_time": "2019-02-06T14:29:24.630485",
     "status": "completed"
    },
    "scrolled": true,
    "tags": [
     "develop"
    ]
   },
   "outputs": [],
   "source": [
    "# Read from input/output table\n",
    "import pandas as pd\n",
    "input_table = pd.read_csv('io_table.csv')"
   ]
  },
  {
   "cell_type": "code",
   "execution_count": 55,
   "metadata": {},
   "outputs": [],
   "source": [
    "# PARAMETERS\n",
    "# Driving time (by car) in minutes\n",
    "driving_time = 10\n",
    "\n",
    "# ISOCHRONE\n",
    "import pandas as pd\n",
    "from shapely.geometry import shape\n",
    "import openrouteservice\n",
    "from openrouteservice.isochrones import isochrones\n",
    "from header import gdf_to_df, df_to_gdf\n",
    "\n",
    "# Initialize ORS with my personal API key (free token). For production please replace it\n",
    "client = openrouteservice.Client(key='58d904a497c67e00015b45fc45f368a7463145e7be57c7563a900810')\n",
    "\n",
    "# Request isochrone for a Point\n",
    "# How to use **kwargs: http://book.pythontips.com/en/latest/args_and_kwargs.html#usage-of-kwargs\n",
    "def calculate_isochrone(Point, **kwargs):\n",
    "    # First extract (X,Y) from the Point\n",
    "    XY = (Point.x, Point.y)\n",
    "    # Then request the isochrone\n",
    "    isochrone = isochrones(client, locations=XY, **kwargs)\n",
    "    # The returned JSON is always a FeatureCollection of 1 Feature with a geometry (= GeoJSON)\n",
    "    return shape(isochrone['features'][0]['geometry'])\n",
    "\n",
    "# Advanced parameters. Don't change these if you don't know what you are doing.\n",
    "# See: https://openrouteservice.org/dev/#/api-docs/isochrones/get\n",
    "params = {'intervals': [60 * driving_time], # is `range` in general API documentation\n",
    "          'segments': [], # is `interval` in general API documentation\n",
    "          'range_type': 'time',\n",
    "          'profile': 'driving-car'\n",
    "         }\n",
    "\n",
    "# Read input\n",
    "gdf = df_to_gdf(input_table)\n",
    "\n",
    "# Request isochrones. This overwrites the current geometry(!)\n",
    "gdf.geometry = gdf.geometry.apply(lambda P: calculate_isochrone(P, **params))\n",
    "\n",
    "# Output\n",
    "output_table = gdf_to_df(gdf)"
   ]
  },
  {
   "cell_type": "code",
   "execution_count": 57,
   "metadata": {
    "tags": [
     "develop"
    ]
   },
   "outputs": [
    {
     "data": {
      "image/png": "[encoded data removed]",
      "text/plain": [
       "<Figure size 720x720 with 1 Axes>"
      ]
     },
     "metadata": {
      "needs_background": "light"
     },
     "output_type": "display_data"
    }
   ],
   "source": [
    "# Write to input/output table\n",
    "output_table.to_csv('io_table.csv', index=False)\n",
    "\n",
    "# Show please\n",
    "%matplotlib inline\n",
    "gdf.plot(figsize=(10,10));"
   ]
  }
 ],
 "metadata": {
  "kernelspec": {
   "display_name": "knime",
   "language": "python",
   "name": "knime"
  },
  "language_info": {
   "codemirror_mode": {
    "name": "ipython",
    "version": 3
   },
   "file_extension": ".py",
   "mimetype": "text/x-python",
   "name": "python",
   "nbconvert_exporter": "python",
   "pygments_lexer": "ipython3",
   "version": "3.7.2"
  }
 },
 "nbformat": 4,
 "nbformat_minor": 2
}
