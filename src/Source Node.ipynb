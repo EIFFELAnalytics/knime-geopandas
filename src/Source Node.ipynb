{
 "cells": [
  {
   "cell_type": "markdown",
   "metadata": {
    "papermill": {
     "duration": 0.04634,
     "end_time": "2019-02-06T14:28:54.104412",
     "exception": false,
     "start_time": "2019-02-06T14:28:54.058072",
     "status": "completed"
    },
    "tags": []
   },
   "source": [
    "# Source Node\n",
    "0 -> 1\n",
    "\n",
    "Documentation: http://geopandas.org/io.html"
   ]
  },
  {
   "cell_type": "code",
   "execution_count": 5,
   "metadata": {
    "papermill": {
     "duration": 1.874825,
     "end_time": "2019-02-06T14:28:56.093973",
     "exception": false,
     "start_time": "2019-02-06T14:28:54.219148",
     "status": "completed"
    },
    "tags": []
   },
   "outputs": [
    {
     "name": "stdout",
     "output_type": "stream",
     "text": [
      "Reading file: /home/ab/Documents/Open-data/shapefiles/shp-provincie/provincie-grenzen.shp\n"
     ]
    }
   ],
   "source": [
    "# PARAMETERS\n",
    "# Gebruik altijd raw strings (r''). Backslash (\\) is namelijk de Python escape character.\n",
    "folder = r'/home/ab/Documents/Open-data/shapefiles/shp-provincie'\n",
    "filename = r'provincie-grenzen.shp'\n",
    "\n",
    "# SOURCE NODE\n",
    "import geopandas as gpd\n",
    "from os.path import join\n",
    "from header import gdf_to_df\n",
    "\n",
    "# Read the file\n",
    "print('Reading file:', join(folder, filename))\n",
    "gdf = gpd.read_file( join(folder, filename) )\n",
    "\n",
    "# Reproject to coordinate reference system (CRS)\n",
    "# This HAS to be done here, because we'll lose the CRS when proceeding to the next node\n",
    "#print('Reprojecting to coordinate reference system...')\n",
    "#gdf = gdf.to_crs(epsg=28992)   # RD New Amersfoort\n",
    "#gdf = gdf.to_crs(epsg=4326)    # WGS84\n",
    "\n",
    "# Output\n",
    "output_table = gdf_to_df(gdf)"
   ]
  },
  {
   "cell_type": "markdown",
   "metadata": {
    "papermill": {
     "duration": 0.019921,
     "end_time": "2019-02-06T14:28:56.132538",
     "exception": false,
     "start_time": "2019-02-06T14:28:56.112617",
     "status": "completed"
    },
    "tags": []
   },
   "source": [
    "TODO: Is CRS really lost when converted to DF?"
   ]
  },
  {
   "cell_type": "markdown",
   "metadata": {
    "papermill": {
     "duration": 0.017419,
     "end_time": "2019-02-06T14:28:56.167464",
     "exception": false,
     "start_time": "2019-02-06T14:28:56.150045",
     "status": "completed"
    },
    "tags": []
   },
   "source": [
    "**Below** is for development purposes only. Writing to and reading from a CSV file enables me to mimic `input_table` and `output_table` in KNIME."
   ]
  },
  {
   "cell_type": "code",
   "execution_count": 6,
   "metadata": {
    "tags": [
     "develop"
    ]
   },
   "outputs": [],
   "source": [
    "# Write to input/output table\n",
    "output_table.to_csv('io_table.csv', index=False)"
   ]
  },
  {
   "cell_type": "code",
   "execution_count": null,
   "metadata": {},
   "outputs": [],
   "source": []
  }
 ],
 "metadata": {
  "celltoolbar": "Tags",
  "kernelspec": {
   "display_name": "geopandas",
   "language": "python",
   "name": "geopandas"
  },
  "language_info": {
   "codemirror_mode": {
    "name": "ipython",
    "version": 3
   },
   "file_extension": ".py",
   "mimetype": "text/x-python",
   "name": "python",
   "nbconvert_exporter": "python",
   "pygments_lexer": "ipython3",
   "version": "3.7.2"
  },
  "papermill": {
   "duration": 5.474637,
   "end_time": "2019-02-06T14:28:58.460680",
   "environment_variables": {},
   "exception": null,
   "input_path": "Source Node.ipynb",
   "output_path": "Source Node.ipynb",
   "parameters": {
    "filename": "provincie-grenzen.shp",
    "folder": "/home/ab/Documents/Open-data/shapefiles/shp-provincie"
   },
   "start_time": "2019-02-06T14:28:52.986043",
   "version": "0.17.1"
  }
 },
 "nbformat": 4,
 "nbformat_minor": 2
}
