{
 "cells": [
  {
   "cell_type": "markdown",
   "metadata": {},
   "source": [
    "# Dissolve Node\n",
    "1 -> 1\n",
    "\n",
    "Documentation: http://geopandas.org/aggregation_with_dissolve.html"
   ]
  },
  {
   "cell_type": "code",
   "execution_count": null,
   "metadata": {
    "papermill": {
     "duration": 0.588692,
     "end_time": "2019-02-06T14:29:25.219177",
     "exception": false,
     "start_time": "2019-02-06T14:29:24.630485",
     "status": "completed"
    },
    "tags": [
     "develop"
    ]
   },
   "outputs": [],
   "source": [
    "# Read from input/output table\n",
    "import pandas as pd\n",
    "input_table = pd.read_csv('io-table.csv')"
   ]
  },
  {
   "cell_type": "code",
   "execution_count": null,
   "metadata": {},
   "outputs": [],
   "source": [
    "# PARAMETERS\n",
    "group_by_column = 'gemcode'\n",
    "\n",
    "# DISSOLVE\n",
    "from convert import df_to_gdf, gdf_to_df\n",
    "\n",
    "# Read input\n",
    "gdf = df_to_gdf(input_table)\n",
    "\n",
    "# Group by a regular data column and dissolve the geometry\n",
    "gdf = gdf.dissolve(by = group_by_column)\n",
    "\n",
    "# Reset index naar kolom\n",
    "gdf.reset_index(inplace = True)\n",
    "\n",
    "# Output\n",
    "output_table = gdf_to_df(gdf)"
   ]
  },
  {
   "cell_type": "code",
   "execution_count": null,
   "metadata": {
    "tags": [
     "develop"
    ]
   },
   "outputs": [],
   "source": [
    "# Write to input/output table\n",
    "output_table.to_csv('io-table.csv', index = False)\n",
    "\n",
    "# Show please\n",
    "%matplotlib inline\n",
    "gdf.plot(figsize = (10,10), column = group_by_column);"
   ]
  },
  {
   "cell_type": "code",
   "execution_count": null,
   "metadata": {},
   "outputs": [],
   "source": []
  }
 ],
 "metadata": {
  "celltoolbar": "Tags",
  "kernelspec": {
   "display_name": "py36_knime",
   "language": "python",
   "name": "py36_knime"
  },
  "language_info": {
   "codemirror_mode": {
    "name": "ipython",
    "version": 3
   },
   "file_extension": ".py",
   "mimetype": "text/x-python",
   "name": "python",
   "nbconvert_exporter": "python",
   "pygments_lexer": "ipython3",
   "version": "3.6.8"
  }
 },
 "nbformat": 4,
 "nbformat_minor": 2
}
