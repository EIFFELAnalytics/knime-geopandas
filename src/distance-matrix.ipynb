{
 "cells": [
  {
   "cell_type": "markdown",
   "metadata": {},
   "source": [
    "## Distance Matrix Node - Open Route Service\n",
    "2 -> 1\n",
    "\n",
    "Documentatie Open Route Service Distance Matrix: : https://openrouteservice.org/documentation/#/reference/matrix/matrix/matrix-service-(get)\n",
    "Documentatie Open Route Service Python: http://openrouteservice-py.readthedocs.io/en/latest/\n",
    "\n",
    "Vereiste `input_table_1` met origins, en `input_table_2` met destinations."
   ]
  },
  {
   "cell_type": "code",
   "execution_count": 1,
   "metadata": {
    "tags": [
     "develop"
    ]
   },
   "outputs": [],
   "source": [
    "# Read from input/output table\n",
    "import pandas as pd\n",
    "input_table_1 = pd.read_csv('~/Documents/Open-data/shapefiles/wkt-csv/provincie-centroids.csv')[:3]\n",
    "input_table_2 = pd.read_csv('~/Documents/Open-data/shapefiles/wkt-csv/gemeente-centroids.csv')[:5]"
   ]
  },
  {
   "cell_type": "code",
   "execution_count": 33,
   "metadata": {},
   "outputs": [],
   "source": [
    "# PARAMETERS (OPTIONAL)\n",
    "# Column for distance matrix index. From input_table_1 (origins)\n",
    "index = input_table_1['provincien']\n",
    "# Column for distance matrix index. From input_table_2 (destinations)\n",
    "columns = input_table_2['GM_NAAM']\n",
    "\n",
    "# DISTANCE MATRIX\n",
    "import pandas as pd\n",
    "import openrouteservice\n",
    "from openrouteservice.distance_matrix import distance_matrix\n",
    "from convert import df_to_gdf\n",
    "\n",
    "#\n",
    "gdf1 = df_to_gdf(input_table_1)\n",
    "gdf2 = df_to_gdf(input_table_2)\n",
    "\n",
    "# Initialize ORS with my personal API key (free token). For production please replace it\n",
    "client = openrouteservice.Client(\n",
    "    key='58d904a497c67e00015b45fc45f368a7463145e7be57c7563a900810',\n",
    "    #base_url='https://foo/bar'\n",
    ")\n",
    "\n",
    "# ORS needs 1 list of XY and separates source and destination by a list of indexes\n",
    "XY = [(Point.x, Point.y) for Point in gdf1.geometry.append(gdf2.geometry)]\n",
    "idx_sources = range(len(gdf1))\n",
    "idx_destinations = range(len(gdf1), len(gdf1) + len(gdf2))\n",
    "\n",
    "# Query ORS\n",
    "query = distance_matrix(client, XY, sources=idx_sources, destinations=idx_destinations)\n",
    "\n",
    "# Construct a data frame and convert seconds to minutes\n",
    "output_table = pd.DataFrame(data=query['durations'], index=index, columns=columns)"
   ]
  },
  {
   "cell_type": "code",
   "execution_count": 39,
   "metadata": {},
   "outputs": [
    {
     "data": {
      "text/html": [
       "<div>\n",
       "<style scoped>\n",
       "    .dataframe tbody tr th:only-of-type {\n",
       "        vertical-align: middle;\n",
       "    }\n",
       "\n",
       "    .dataframe tbody tr th {\n",
       "        vertical-align: top;\n",
       "    }\n",
       "\n",
       "    .dataframe thead th {\n",
       "        text-align: right;\n",
       "    }\n",
       "</style>\n",
       "<table border=\"1\" class=\"dataframe\">\n",
       "  <thead>\n",
       "    <tr style=\"text-align: right;\">\n",
       "      <th>GM_NAAM</th>\n",
       "      <th>Appingedam</th>\n",
       "      <th>Bedum</th>\n",
       "      <th>Ten Boer</th>\n",
       "      <th>Delfzijl</th>\n",
       "      <th>Groningen</th>\n",
       "    </tr>\n",
       "    <tr>\n",
       "      <th>provincien</th>\n",
       "      <th></th>\n",
       "      <th></th>\n",
       "      <th></th>\n",
       "      <th></th>\n",
       "      <th></th>\n",
       "    </tr>\n",
       "  </thead>\n",
       "  <tbody>\n",
       "    <tr>\n",
       "      <th>Noord-Holland</th>\n",
       "      <td>8795.90</td>\n",
       "      <td>7806.08</td>\n",
       "      <td>8004.24</td>\n",
       "      <td>9030.22</td>\n",
       "      <td>7216.73</td>\n",
       "    </tr>\n",
       "    <tr>\n",
       "      <th>Groningen</th>\n",
       "      <td>1461.15</td>\n",
       "      <td>1549.55</td>\n",
       "      <td>1273.10</td>\n",
       "      <td>1653.98</td>\n",
       "      <td>1195.75</td>\n",
       "    </tr>\n",
       "    <tr>\n",
       "      <th>Overijssel</th>\n",
       "      <td>5858.20</td>\n",
       "      <td>5300.04</td>\n",
       "      <td>5415.61</td>\n",
       "      <td>6006.25</td>\n",
       "      <td>4628.10</td>\n",
       "    </tr>\n",
       "  </tbody>\n",
       "</table>\n",
       "</div>"
      ],
      "text/plain": [
       "GM_NAAM        Appingedam    Bedum  Ten Boer  Delfzijl  Groningen\n",
       "provincien                                                       \n",
       "Noord-Holland     8795.90  7806.08   8004.24   9030.22    7216.73\n",
       "Groningen         1461.15  1549.55   1273.10   1653.98    1195.75\n",
       "Overijssel        5858.20  5300.04   5415.61   6006.25    4628.10"
      ]
     },
     "execution_count": 39,
     "metadata": {},
     "output_type": "execute_result"
    }
   ],
   "source": [
    "# Inspect\n",
    "output_table"
   ]
  }
 ],
 "metadata": {
  "kernelspec": {
   "display_name": "knime",
   "language": "python",
   "name": "knime"
  },
  "language_info": {
   "codemirror_mode": {
    "name": "ipython",
    "version": 3
   },
   "file_extension": ".py",
   "mimetype": "text/x-python",
   "name": "python",
   "nbconvert_exporter": "python",
   "pygments_lexer": "ipython3",
   "version": "3.7.2"
  }
 },
 "nbformat": 4,
 "nbformat_minor": 2
}
