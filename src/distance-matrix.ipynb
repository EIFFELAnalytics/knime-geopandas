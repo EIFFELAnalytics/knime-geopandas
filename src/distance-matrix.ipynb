{
 "cells": [
  {
   "cell_type": "markdown",
   "metadata": {},
   "source": [
    "## Distance Matrix Node - Open Route Service\n",
    "2 -> 1\n",
    "\n",
    "Documentatie Open Route Service Distance Matrix: : https://openrouteservice.org/documentation/#/reference/matrix/matrix/matrix-service-(get)  \n",
    "Documentatie Open Route Service Python: http://openrouteservice-py.readthedocs.io/en/latest/\n",
    "\n",
    "Vereiste `input_table_1` met origins, en `input_table_2` met destinations."
   ]
  },
  {
   "cell_type": "code",
   "execution_count": null,
   "metadata": {
    "tags": [
     "develop"
    ]
   },
   "outputs": [],
   "source": [
    "# Read from input/output table\n",
    "import pandas as pd\n",
    "input_table_1 = pd.read_csv('~/Documents/Open-data/shapefiles/wkt-csv/provincie-centroids.csv')[:3]\n",
    "input_table_2 = pd.read_csv('~/Documents/Open-data/shapefiles/wkt-csv/gemeente-centroids.csv')[:5]"
   ]
  },
  {
   "cell_type": "code",
   "execution_count": null,
   "metadata": {},
   "outputs": [],
   "source": [
    "# PARAMETERS (OPTIONAL)\n",
    "# Column for distance matrix index. From input_table_1 (origins)\n",
    "origins = input_table_1['provincien']\n",
    "# Column for distance matrix column names. From input_table_2 (destinations)\n",
    "destinations = input_table_2['GM_NAAM']\n",
    "\n",
    "# DISTANCE MATRIX\n",
    "import pandas as pd\n",
    "import openrouteservice\n",
    "from openrouteservice.distance_matrix import distance_matrix\n",
    "from convert import df_to_gdf\n",
    "\n",
    "#\n",
    "gdf1 = df_to_gdf(input_table_1)\n",
    "gdf2 = df_to_gdf(input_table_2)\n",
    "\n",
    "# Initialize ORS with my personal API key (free token). For production please replace it\n",
    "client = openrouteservice.Client(\n",
    "    key='58d904a497c67e00015b45fc45f368a7463145e7be57c7563a900810',\n",
    "    #base_url='https://foo/bar'\n",
    ")\n",
    "\n",
    "# ORS needs 1 list of XY and separates source and destination by a list of indexes\n",
    "XY = [(Point.x, Point.y) for Point in gdf1.geometry.append(gdf2.geometry)]\n",
    "idx_origins = range(len(gdf1))\n",
    "idx_destinations = range(len(gdf1), len(gdf1) + len(gdf2))\n",
    "\n",
    "# Query ORS\n",
    "query = distance_matrix(client, XY, sources=idx_origins, destinations=idx_destinations)\n",
    "\n",
    "# Construct a data frame and convert seconds to minutes\n",
    "output_table = pd.DataFrame(data=query['durations'], index=origins, columns=destinations)"
   ]
  },
  {
   "cell_type": "code",
   "execution_count": null,
   "metadata": {},
   "outputs": [],
   "source": [
    "# Inspect\n",
    "output_table"
   ]
  }
 ],
 "metadata": {
  "kernelspec": {
   "display_name": "py36_knime",
   "language": "python",
   "name": "py36_knime"
  },
  "language_info": {
   "codemirror_mode": {
    "name": "ipython",
    "version": 3
   },
   "file_extension": ".py",
   "mimetype": "text/x-python",
   "name": "python",
   "nbconvert_exporter": "python",
   "pygments_lexer": "ipython3",
   "version": "3.6.8"
  }
 },
 "nbformat": 4,
 "nbformat_minor": 2
}
