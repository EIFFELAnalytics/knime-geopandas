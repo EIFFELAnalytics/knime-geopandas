{
 "cells": [
  {
   "cell_type": "code",
   "execution_count": 1,
   "metadata": {
    "papermill": {
     "duration": 0.44775,
     "end_time": "2019-01-25T09:25:41.418322",
     "exception": false,
     "start_time": "2019-01-25T09:25:40.970572",
     "status": "completed"
    },
    "tags": []
   },
   "outputs": [],
   "source": [
    "import pandas as pd"
   ]
  },
  {
   "cell_type": "code",
   "execution_count": 2,
   "metadata": {
    "papermill": {
     "duration": 0.031062,
     "end_time": "2019-01-25T09:25:41.469014",
     "exception": false,
     "start_time": "2019-01-25T09:25:41.437952",
     "status": "completed"
    },
    "scrolled": true,
    "tags": [
     "parameters"
    ]
   },
   "outputs": [],
   "source": [
    "a = 1\n",
    "b = 5\n",
    "s = 'Hi there'\n",
    "df = pd.DataFrame(data=[[1,2,3], ['a', 'b', 'c']], columns=['First', 'Second', 'Third'])"
   ]
  },
  {
   "cell_type": "code",
   "execution_count": 12,
   "metadata": {
    "papermill": {
     "duration": 0.029246,
     "end_time": "2019-01-25T09:25:41.518104",
     "exception": false,
     "start_time": "2019-01-25T09:25:41.488858",
     "status": "completed"
    },
    "tags": [
     "injected-parameters"
    ]
   },
   "outputs": [],
   "source": [
    "# Parameters\n",
    "a = 2\n",
    "b = 24\n",
    "s = \"Yo\"\n",
    "df = \"{\\\"First\\\":{\\\"0\\\":1,\\\"1\\\":\\\"a\\\"},\\\"Second\\\":{\\\"0\\\":2,\\\"1\\\":\\\"q\\\"},\\\"Third\\\":{\\\"0\\\":7,\\\"1\\\":\\\"c\\\"}}\"\n"
   ]
  },
  {
   "cell_type": "code",
   "execution_count": 4,
   "metadata": {
    "papermill": {
     "duration": 0.038116,
     "end_time": "2019-01-25T09:25:41.572518",
     "exception": false,
     "start_time": "2019-01-25T09:25:41.534402",
     "status": "completed"
    },
    "tags": []
   },
   "outputs": [
    {
     "data": {
      "text/plain": [
       "26"
      ]
     },
     "execution_count": 4,
     "metadata": {},
     "output_type": "execute_result"
    }
   ],
   "source": [
    "a+b"
   ]
  },
  {
   "cell_type": "code",
   "execution_count": 13,
   "metadata": {},
   "outputs": [
    {
     "data": {
      "text/plain": [
       "'{\"First\":{\"0\":1,\"1\":\"a\"},\"Second\":{\"0\":2,\"1\":\"q\"},\"Third\":{\"0\":7,\"1\":\"c\"}}'"
      ]
     },
     "execution_count": 13,
     "metadata": {},
     "output_type": "execute_result"
    }
   ],
   "source": [
    "df"
   ]
  },
  {
   "cell_type": "code",
   "execution_count": null,
   "metadata": {
    "papermill": {
     "duration": 0.016781,
     "end_time": "2019-01-25T09:25:41.658365",
     "exception": false,
     "start_time": "2019-01-25T09:25:41.641584",
     "status": "completed"
    },
    "tags": []
   },
   "outputs": [],
   "source": []
  }
 ],
 "metadata": {
  "celltoolbar": "Tags",
  "kernelspec": {
   "display_name": "geopandas",
   "language": "python",
   "name": "geopandas"
  },
  "language_info": {
   "codemirror_mode": {
    "name": "ipython",
    "version": 3
   },
   "file_extension": ".py",
   "mimetype": "text/x-python",
   "name": "python",
   "nbconvert_exporter": "python",
   "pygments_lexer": "ipython3",
   "version": "3.7.2"
  },
  "papermill": {
   "duration": 2.356815,
   "end_time": "2019-01-25T09:25:42.333897",
   "environment_variables": {},
   "exception": null,
   "input_path": "pm_test.ipynb",
   "output_path": "pm_test.ipynb",
   "parameters": {
    "a": 2,
    "b": 24,
    "df": "{\"First\":{\"0\":1,\"1\":\"a\"},\"Second\":{\"0\":2,\"1\":\"q\"},\"Third\":{\"0\":7,\"1\":\"c\"}}",
    "s": "Yo"
   },
   "start_time": "2019-01-25T09:25:39.977082",
   "version": "0.17.1"
  }
 },
 "nbformat": 4,
 "nbformat_minor": 2
}
