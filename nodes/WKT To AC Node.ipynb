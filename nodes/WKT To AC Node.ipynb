{
 "cells": [
  {
   "cell_type": "markdown",
   "metadata": {},
   "source": [
    "# WKT To AC Node\n",
    "1 -> 1\n",
    "\n",
    "Converteert [well-known text](https://en.wikipedia.org/wiki/Well-known_text#Geometric_objects) (WKT) naar AC format (`x,y:x,y@x,y:x,y`). Beide formats hanteren de punt (`.`) als decimale punt.\n",
    "\n",
    "De `output_table` kan in KNIME worden doorgegeven naar bijvoorbeeld de *CSV Writer* node."
   ]
  },
  {
   "cell_type": "code",
   "execution_count": 7,
   "metadata": {},
   "outputs": [
    {
     "name": "stdout",
     "output_type": "stream",
     "text": [
      "Shape output_table: (12, 4)\n",
      "Preview output_table:\n",
      "    id     provincien                                                wkt  \\\n",
      "0   1  Noord-Holland  MULTIPOLYGON (((5.16595803513613 53.0011795601...   \n",
      "1   2      Groningen  MULTIPOLYGON (((6.287547703816826 53.342509935...   \n",
      "2   3     Overijssel  MULTIPOLYGON (((6.110121318419511 52.441553119...   \n",
      "3   4        Zeeland  MULTIPOLYGON (((3.83923160158486 51.7592703536...   \n",
      "4   5      Friesland  MULTIPOLYGON (((6.191971949520441 53.412179416...   \n",
      "\n",
      "                                                  AC  \n",
      "0  5.16595803513613,53.00117956010834:5.166302802...  \n",
      "1  6.287547703816826,53.34250993573775:6.28473742...  \n",
      "2  6.110121318419511,52.44155311970717:6.10958144...  \n",
      "3  3.83923160158486,51.75927035368181:3.841869950...  \n",
      "4  6.191971949520441,53.41217941682984:6.19167794...  \n"
     ]
    }
   ],
   "source": [
    "###\n",
    "### WKT TO AC NODE\n",
    "###\n",
    "def wktToAc(wkt):\n",
    "    ac = wkt\\\n",
    "        .replace('MULTIPOLYGON (((', '').replace(')))', '').replace(')), ((', '@')\\\n",
    "        .replace('POLYGON ((', '').replace('))', '').replace('), (', '@')\\\n",
    "        .replace(', ', ':').replace(' ', ',')\n",
    "    return ac\n",
    "\n",
    "# copy input table and convert wkt to AC into new column\n",
    "output_table = input_table.copy()\n",
    "output_table['AC'] = input_table.wkt.apply(wktToAc)\n",
    "print('Shape output_table:', output_table.shape)\n",
    "print('Preview output_table:\\n', output_table.head())"
   ]
  },
  {
   "cell_type": "markdown",
   "metadata": {},
   "source": [
    "## Load some input data to test the cells above"
   ]
  },
  {
   "cell_type": "code",
   "execution_count": 6,
   "metadata": {},
   "outputs": [],
   "source": [
    "###\n",
    "### SOURCE - ONLY FOR PREPARATION\n",
    "###\n",
    "from os.path import join\n",
    "folder = '/home/ab/i/Open-data/shapefiles/shp-provincie'\n",
    "filename = 'provincie-grenzen.shp'\n",
    "\n",
    "# geopandas (geometry) to pandas (wkt)\n",
    "import geopandas as gpd\n",
    "import pandas as pd\n",
    "from shapely import wkt as WKT\n",
    "def gdfToDf(gdf):\n",
    "    df = pd.DataFrame(gdf, copy=True)\n",
    "    df['wkt'] = gdf.geometry.apply(lambda wkt: WKT.dumps(wkt, trim=True))\n",
    "    df.drop(columns='geometry', inplace=True)\n",
    "    return df\n",
    "\n",
    "# read the file\n",
    "gdf = gpd.read_file( join(folder, filename) )\n",
    "gdf = gdf.to_crs(epsg=4326)    # WGS84\n",
    "\n",
    "# output\n",
    "output_table = gdfToDf(gdf)\n",
    "\n",
    "# copy output to input\n",
    "input_table = output_table.copy()"
   ]
  }
 ],
 "metadata": {
  "kernelspec": {
   "display_name": "Python 3",
   "language": "python",
   "name": "python3"
  },
  "language_info": {
   "codemirror_mode": {
    "name": "ipython",
    "version": 3
   },
   "file_extension": ".py",
   "mimetype": "text/x-python",
   "name": "python",
   "nbconvert_exporter": "python",
   "pygments_lexer": "ipython3",
   "version": "3.6.4"
  }
 },
 "nbformat": 4,
 "nbformat_minor": 2
}
