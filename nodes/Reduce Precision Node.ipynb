{
 "cells": [
  {
   "cell_type": "markdown",
   "metadata": {},
   "source": [
    "# Reduce Precision Node\n",
    "1 -> 1\n",
    "\n",
    "Verlaagt de precisie van elk coordinaat naar een bepaald aantal decimalen. Bijvoorbeeld EIFFEL Arnhem: `(5.9812899999999445, 51.9775966)` $\\rightarrow$ `(5.98128, 51.97759)`.\n",
    "\n",
    "*Let op:* vergeet niet `decimals` aan te passen in de code hier beneden!"
   ]
  },
  {
   "cell_type": "code",
   "execution_count": 18,
   "metadata": {},
   "outputs": [],
   "source": [
    "###\n",
    "### USER DEFINED\n",
    "###\n",
    "\n",
    "# Aantal decimalen achter de komma. In dezelfde eenheid als de projectie.\n",
    "#   * RD New: meters\n",
    "#   * WGS84: graden. In Nederland 1 m ~= 1e-5 graden\n",
    "decimals = 5"
   ]
  },
  {
   "cell_type": "code",
   "execution_count": 8,
   "metadata": {},
   "outputs": [],
   "source": [
    "###\n",
    "### HEADER\n",
    "###\n",
    "import geopandas as gpd\n",
    "import pandas as pd\n",
    "from shapely import wkt as WKT\n",
    "import numpy as np\n",
    "import re\n",
    "\n",
    "# geopandas (geometry) to pandas (wkt)\n",
    "# AANGEPAST MET ROUNDING PRECISION\n",
    "def gdfToDf(gdf, **kwargs):\n",
    "    df = pd.DataFrame(gdf, copy=True)\n",
    "    df['wkt'] = gdf.geometry.apply(lambda wkt: WKT.dumps(wkt, trim=True,\\\n",
    "                                                        rounding_precision=kwargs.get('rounding_precision', -1)))\n",
    "    df.drop(columns='geometry', inplace=True)\n",
    "    return df\n",
    "\n",
    "# pandas (wkt) to geopandas (geometry)\n",
    "def dfToGdf(df):\n",
    "    gdf = gpd.GeoDataFrame(df, copy=True)\n",
    "    gdf['geometry'] = df.wkt.apply(WKT.loads)\n",
    "    gdf.drop(columns='wkt', inplace=True)\n",
    "    return gdf\n",
    "\n",
    "\n",
    "# bereken wat extra info (vind ik interessant)\n",
    "def extractInfo(wkt, *args):\n",
    "    # calculate specs\n",
    "    info = {'points': len(wkt.split(',')),\\\n",
    "            'chars': len(wkt),\\\n",
    "            'precision': np.mean([len(decimals) for decimals in re.findall('\\.([0-9]*)', wkt)])}\n",
    "    # return dictionary or list with values of one spec\n",
    "    if not args:\n",
    "        return info\n",
    "    else:\n",
    "        return info.get(args[0])"
   ]
  },
  {
   "cell_type": "code",
   "execution_count": 20,
   "metadata": {},
   "outputs": [
    {
     "name": "stdout",
     "output_type": "stream",
     "text": [
      "Shape input_table: (12, 3)\n",
      "Average precision: 14.4 decimals\n",
      "Shape output_table: (12, 3)\n",
      "Average precision: 3.4 decimals\n"
     ]
    }
   ],
   "source": [
    "###\n",
    "### REDUCE PRECISION\n",
    "###\n",
    "\n",
    "# input\n",
    "gdf = dfToGdf(input_table)\n",
    "print('Shape input_table:', input_table.shape)\n",
    "print('Average precision: %.1f decimals' % np.mean(input_table.wkt.apply(extractInfo, args=('precision',))))\n",
    "\n",
    "# output and set the rounding precision\n",
    "output_table = gdfToDf(gdf, rounding_precision=decimals)\n",
    "print('Shape output_table:', output_table.shape)\n",
    "print('Average precision: %.1f decimals' % np.mean(output_table.wkt.apply(extractInfo, args=('precision',))))"
   ]
  },
  {
   "cell_type": "code",
   "execution_count": 21,
   "metadata": {},
   "outputs": [
    {
     "name": "stdout",
     "output_type": "stream",
     "text": [
      "Preview output_table (first 5 rows):\n"
     ]
    },
    {
     "data": {
      "text/html": [
       "<div>\n",
       "<style scoped>\n",
       "    .dataframe tbody tr th:only-of-type {\n",
       "        vertical-align: middle;\n",
       "    }\n",
       "\n",
       "    .dataframe tbody tr th {\n",
       "        vertical-align: top;\n",
       "    }\n",
       "\n",
       "    .dataframe thead th {\n",
       "        text-align: right;\n",
       "    }\n",
       "</style>\n",
       "<table border=\"1\" class=\"dataframe\">\n",
       "  <thead>\n",
       "    <tr style=\"text-align: right;\">\n",
       "      <th></th>\n",
       "      <th>id</th>\n",
       "      <th>provincien</th>\n",
       "      <th>wkt</th>\n",
       "    </tr>\n",
       "  </thead>\n",
       "  <tbody>\n",
       "    <tr>\n",
       "      <th>0</th>\n",
       "      <td>1</td>\n",
       "      <td>Noord-Holland</td>\n",
       "      <td>MULTIPOLYGON (((5.166 53.001, 5.1663 53.001, 5...</td>\n",
       "    </tr>\n",
       "    <tr>\n",
       "      <th>1</th>\n",
       "      <td>2</td>\n",
       "      <td>Groningen</td>\n",
       "      <td>MULTIPOLYGON (((6.2875 53.343, 6.2847 53.343, ...</td>\n",
       "    </tr>\n",
       "    <tr>\n",
       "      <th>2</th>\n",
       "      <td>3</td>\n",
       "      <td>Overijssel</td>\n",
       "      <td>MULTIPOLYGON (((6.1101 52.442, 6.1096 52.442, ...</td>\n",
       "    </tr>\n",
       "    <tr>\n",
       "      <th>3</th>\n",
       "      <td>4</td>\n",
       "      <td>Zeeland</td>\n",
       "      <td>MULTIPOLYGON (((3.8392 51.759, 3.8419 51.758, ...</td>\n",
       "    </tr>\n",
       "    <tr>\n",
       "      <th>4</th>\n",
       "      <td>5</td>\n",
       "      <td>Friesland</td>\n",
       "      <td>MULTIPOLYGON (((6.192 53.412, 6.1917 53.412, 6...</td>\n",
       "    </tr>\n",
       "  </tbody>\n",
       "</table>\n",
       "</div>"
      ],
      "text/plain": [
       "   id     provincien                                                wkt\n",
       "0   1  Noord-Holland  MULTIPOLYGON (((5.166 53.001, 5.1663 53.001, 5...\n",
       "1   2      Groningen  MULTIPOLYGON (((6.2875 53.343, 6.2847 53.343, ...\n",
       "2   3     Overijssel  MULTIPOLYGON (((6.1101 52.442, 6.1096 52.442, ...\n",
       "3   4        Zeeland  MULTIPOLYGON (((3.8392 51.759, 3.8419 51.758, ...\n",
       "4   5      Friesland  MULTIPOLYGON (((6.192 53.412, 6.1917 53.412, 6..."
      ]
     },
     "metadata": {},
     "output_type": "display_data"
    }
   ],
   "source": [
    "###\n",
    "### FOOTER\n",
    "###\n",
    "print('Preview output_table (first 5 rows):')\n",
    "try:\n",
    "    # try pretty print in Jupyter Notebook\n",
    "    display(output_table.head())\n",
    "except NameError:\n",
    "    print(output_table.head())"
   ]
  },
  {
   "cell_type": "markdown",
   "metadata": {},
   "source": [
    "## Testing and showing results\n",
    "Don't add this in KNIME"
   ]
  },
  {
   "cell_type": "code",
   "execution_count": null,
   "metadata": {},
   "outputs": [],
   "source": [
    "%matplotlib inline\n",
    "gdf.plot()"
   ]
  },
  {
   "cell_type": "markdown",
   "metadata": {},
   "source": [
    "## Load some input data to test the cells above\n",
    "Run `Header` node first!"
   ]
  },
  {
   "cell_type": "code",
   "execution_count": 11,
   "metadata": {},
   "outputs": [],
   "source": [
    "###\n",
    "### SOURCE - ONLY FOR PREPARATION\n",
    "###\n",
    "from os.path import join\n",
    "folder = '/home/ab/i/Open-data/shapefiles/shp-provincie'\n",
    "filename = 'provincie-grenzen.shp'\n",
    "\n",
    "# read the file\n",
    "gdf = gpd.read_file( join(folder, filename) )\n",
    "gdf = gdf.to_crs(epsg=4326)    # WGS84\n",
    "\n",
    "# output\n",
    "output_table = gdfToDf(gdf)\n",
    "\n",
    "# copy output to input\n",
    "input_table = output_table.copy()"
   ]
  }
 ],
 "metadata": {
  "kernelspec": {
   "display_name": "Python 3",
   "language": "python",
   "name": "python3"
  },
  "language_info": {
   "codemirror_mode": {
    "name": "ipython",
    "version": 3
   },
   "file_extension": ".py",
   "mimetype": "text/x-python",
   "name": "python",
   "nbconvert_exporter": "python",
   "pygments_lexer": "ipython3",
   "version": "3.6.4"
  }
 },
 "nbformat": 4,
 "nbformat_minor": 2
}
