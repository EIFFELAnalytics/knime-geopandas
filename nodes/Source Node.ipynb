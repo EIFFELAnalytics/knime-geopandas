{
 "cells": [
  {
   "cell_type": "markdown",
   "metadata": {},
   "source": [
    "# Source Node\n",
    "0 -> 1\n",
    "\n",
    "Documentation: http://geopandas.org/io.html\n",
    "\n",
    "*Let op:* Niet vergeten `folder` en `filename` aan te passen!"
   ]
  },
  {
   "cell_type": "markdown",
   "metadata": {},
   "source": [
    "**Extra info: projecties**\n",
    "* *WGS84*\n",
    "    * https://epsg.io/4326\n",
    "    * Amersfoort = `(52.1561110, 5.3878270)`\n",
    "    * In graden\n",
    "    * ~ 110km/degree longitude (horizontaal)\n",
    "    * ~ 70km/degree latitude (verticaal)\n",
    "* *RD New Amersfoort*\n",
    "    * https://epsg.io/28992\n",
    "    * Amersfoort = `(142892.19, 470783.87)`\n",
    "    * In meters"
   ]
  },
  {
   "cell_type": "code",
   "execution_count": 1,
   "metadata": {},
   "outputs": [],
   "source": [
    "###\n",
    "### USER DEFINED\n",
    "###\n",
    "\n",
    "# Gebruik ALTIJD raw strings (r''). Backslash (\\) is de Python-escape-karakter.\n",
    "folder = r'/home/ab/i/Open-data/shapefiles/shp-provincie'\n",
    "filename = r'provincie-grenzen.shp'"
   ]
  },
  {
   "cell_type": "code",
   "execution_count": 2,
   "metadata": {},
   "outputs": [],
   "source": [
    "###\n",
    "### HEADER\n",
    "###\n",
    "import geopandas as gpd\n",
    "import pandas as pd\n",
    "from shapely import wkt as WKT\n",
    "import re\n",
    "import numpy as np\n",
    "\n",
    "# geopandas (geometry) to pandas (wkt)\n",
    "def gdfToDf(gdf):\n",
    "    df = pd.DataFrame(gdf, copy=True)\n",
    "    df['wkt'] = gdf.geometry.apply(lambda wkt: WKT.dumps(wkt, trim=True))\n",
    "    df.drop(columns='geometry', inplace=True)\n",
    "    return df\n",
    "\n",
    "# pandas (wkt) to geopandas (geometry)\n",
    "def dfToGdf(df):\n",
    "    gdf = gpd.GeoDataFrame(df, copy=True)\n",
    "    gdf['geometry'] = df.wkt.apply(WKT.loads)\n",
    "    gdf.drop(columns='wkt', inplace=True)\n",
    "    return gdf\n",
    "\n",
    "# bereken wat extra info (vind ik interessant)\n",
    "def extractInfo(wkt, *args):\n",
    "    # calculate specs\n",
    "    info = {'points': len(wkt.split(',')),\\\n",
    "            'chars': len(wkt),\\\n",
    "            'precision': np.mean([len(decimals) for decimals in re.findall('\\.([0-9]*)', wkt)])}\n",
    "    # return dictionary or list with values of one spec\n",
    "    if not args:\n",
    "        return info\n",
    "    else:\n",
    "        return info.get(args[0])"
   ]
  },
  {
   "cell_type": "code",
   "execution_count": 3,
   "metadata": {},
   "outputs": [
    {
     "name": "stdout",
     "output_type": "stream",
     "text": [
      "Reading file: /home/ab/i/Open-data/shapefiles/shp-provincie/provincie-grenzen.shp\n"
     ]
    }
   ],
   "source": [
    "###\n",
    "### SOURCE\n",
    "###\n",
    "from os.path import join\n",
    "\n",
    "# read the file\n",
    "print('Reading file:', join(folder, filename))\n",
    "gdf = gpd.read_file( join(folder, filename) )\n",
    "\n",
    "# re-project to coordinate reference system (CRS), uncomment the one which is needed\n",
    "#gdf = gdf.to_crs(epsg=28992)    # RD New Amersfoort\n",
    "gdf = gdf.to_crs(epsg=4326)    # WGS84\n",
    "\n",
    "# output\n",
    "output_table = gdfToDf(gdf)"
   ]
  },
  {
   "cell_type": "code",
   "execution_count": 9,
   "metadata": {},
   "outputs": [
    {
     "name": "stdout",
     "output_type": "stream",
     "text": [
      "Shape output_table: (380, 3)\n",
      "Preview output_table (first 5 rows):\n"
     ]
    },
    {
     "data": {
      "text/html": [
       "<div>\n",
       "<style scoped>\n",
       "    .dataframe tbody tr th:only-of-type {\n",
       "        vertical-align: middle;\n",
       "    }\n",
       "\n",
       "    .dataframe tbody tr th {\n",
       "        vertical-align: top;\n",
       "    }\n",
       "\n",
       "    .dataframe thead th {\n",
       "        text-align: right;\n",
       "    }\n",
       "</style>\n",
       "<table border=\"1\" class=\"dataframe\">\n",
       "  <thead>\n",
       "    <tr style=\"text-align: right;\">\n",
       "      <th></th>\n",
       "      <th>Gemeente_c</th>\n",
       "      <th>Gemeente_n</th>\n",
       "      <th>wkt</th>\n",
       "    </tr>\n",
       "  </thead>\n",
       "  <tbody>\n",
       "    <tr>\n",
       "      <th>0</th>\n",
       "      <td>10</td>\n",
       "      <td>Delfzijl</td>\n",
       "      <td>MULTIPOLYGON (((6.984386000000001 53.318369, 6...</td>\n",
       "    </tr>\n",
       "    <tr>\n",
       "      <th>1</th>\n",
       "      <td>106</td>\n",
       "      <td>Assen</td>\n",
       "      <td>POLYGON ((6.6345 53.0096, 6.63448 53.00955, 6....</td>\n",
       "    </tr>\n",
       "    <tr>\n",
       "      <th>2</th>\n",
       "      <td>109</td>\n",
       "      <td>Coevorden</td>\n",
       "      <td>POLYGON ((6.872629 52.654037, 6.872506 52.6532...</td>\n",
       "    </tr>\n",
       "    <tr>\n",
       "      <th>3</th>\n",
       "      <td>114</td>\n",
       "      <td>Emmen</td>\n",
       "      <td>POLYGON ((7.088798 52.832941, 7.08528 52.82852...</td>\n",
       "    </tr>\n",
       "    <tr>\n",
       "      <th>4</th>\n",
       "      <td>118</td>\n",
       "      <td>Hoogeveen</td>\n",
       "      <td>POLYGON ((6.63313 52.707555, 6.629633 52.70688...</td>\n",
       "    </tr>\n",
       "  </tbody>\n",
       "</table>\n",
       "</div>"
      ],
      "text/plain": [
       "  Gemeente_c Gemeente_n                                                wkt\n",
       "0         10   Delfzijl  MULTIPOLYGON (((6.984386000000001 53.318369, 6...\n",
       "1        106      Assen  POLYGON ((6.6345 53.0096, 6.63448 53.00955, 6....\n",
       "2        109  Coevorden  POLYGON ((6.872629 52.654037, 6.872506 52.6532...\n",
       "3        114      Emmen  POLYGON ((7.088798 52.832941, 7.08528 52.82852...\n",
       "4        118  Hoogeveen  POLYGON ((6.63313 52.707555, 6.629633 52.70688..."
      ]
     },
     "metadata": {},
     "output_type": "display_data"
    },
    {
     "name": "stdout",
     "output_type": "stream",
     "text": [
      "Average # points/polygon: 1045.7\n",
      "Average # characters/WKT: 20893.4\n",
      "Average precision: 6.0 decimals\n"
     ]
    }
   ],
   "source": [
    "###\n",
    "### FOOTER\n",
    "###\n",
    "print('Shape output_table:', output_table.shape)\n",
    "print('Preview output_table (first 5 rows):')\n",
    "try:\n",
    "    # try pretty print in Jupyter Notebook\n",
    "    display(output_table.head())\n",
    "except NameError:\n",
    "    print(output_table.head())\n",
    "    \n",
    "# print extra info\n",
    "print('Average # points/polygon: %.1f' % np.mean(output_table.wkt.apply(extractInfo, args=('points',))))\n",
    "print('Average # characters/WKT: %.1f' % np.mean(output_table.wkt.apply(extractInfo, args=('chars',))))\n",
    "print('Average precision: %.1f decimals' % np.mean(output_table.wkt.apply(extractInfo, args=('precision',))))"
   ]
  },
  {
   "cell_type": "markdown",
   "metadata": {},
   "source": [
    "## Testing and showing results\n",
    "Don't add this in KNIME"
   ]
  },
  {
   "cell_type": "code",
   "execution_count": null,
   "metadata": {},
   "outputs": [],
   "source": [
    "%matplotlib inline\n",
    "gdf.plot()"
   ]
  }
 ],
 "metadata": {
  "kernelspec": {
   "display_name": "Python 3",
   "language": "python",
   "name": "python3"
  },
  "language_info": {
   "codemirror_mode": {
    "name": "ipython",
    "version": 3
   },
   "file_extension": ".py",
   "mimetype": "text/x-python",
   "name": "python",
   "nbconvert_exporter": "python",
   "pygments_lexer": "ipython3",
   "version": "3.6.4"
  }
 },
 "nbformat": 4,
 "nbformat_minor": 2
}
