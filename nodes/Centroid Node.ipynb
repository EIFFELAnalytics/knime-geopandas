{
 "cells": [
  {
   "cell_type": "markdown",
   "metadata": {},
   "source": [
    "# Centroid Node\n",
    "1 -> 1\n",
    "\n",
    "Documentation: https://toblerity.org/shapely/manual.html#object.centroid"
   ]
  },
  {
   "cell_type": "code",
   "execution_count": null,
   "metadata": {},
   "outputs": [],
   "source": [
    "###\n",
    "### HEADER\n",
    "###\n",
    "import geopandas as gpd\n",
    "import pandas as pd\n",
    "from shapely import wkt as WKT\n",
    "\n",
    "# geopandas (geometry) to pandas (wkt)\n",
    "def gdfToDf(gdf):\n",
    "    df = pd.DataFrame(gdf, copy=True)\n",
    "    df['wkt'] = gdf.geometry.apply(lambda wkt: WKT.dumps(wkt, trim=True))\n",
    "    df.drop(columns='geometry', inplace=True)\n",
    "    return df\n",
    "\n",
    "# pandas (wkt) to geopandas (geometry)\n",
    "def dfToGdf(df):\n",
    "    gdf = gpd.GeoDataFrame(df, copy=True)\n",
    "    gdf['geometry'] = df.wkt.apply(WKT.loads)\n",
    "    gdf.drop(columns='wkt', inplace=True)\n",
    "    return gdf"
   ]
  },
  {
   "cell_type": "code",
   "execution_count": 3,
   "metadata": {},
   "outputs": [
    {
     "name": "stdout",
     "output_type": "stream",
     "text": [
      "Shape input_table: (380, 4)\n",
      "\n",
      "Shape output_table: (380, 4)\n",
      "\n",
      "Preview:\n",
      "    id  code      gemeentena                                             wkt\n",
      "0   1  0584  Oud-Beijerland  POINT (4.4136756535309969 51.8106503024807097)\n",
      "1  18  0160      Hardenberg  POINT (6.5746849551465454 52.5866812435935600)\n",
      "2  19  0327         Leusden  POINT (5.4169021586168773 52.1232043704452082)\n",
      "3  20  1931  Krimpenerwaard  POINT (4.7375678917325441 51.9533572586894721)\n",
      "4  21  1701      Westerveld  POINT (6.2961030924723502 52.8392726421496803)\n"
     ]
    }
   ],
   "source": [
    "###\n",
    "### CENTROID NODE\n",
    "###\n",
    "\n",
    "# input\n",
    "gdf = dfToGdf(input_table)\n",
    "print('Shape input_table:', input_table.shape)\n",
    "\n",
    "# calculate centroids. Note: this overwrites the current geometry column\n",
    "gdf.geometry = gdf.geometry.centroid\n",
    "\n",
    "# output\n",
    "output_table = gdfToDf(gdf)\n",
    "print('Shape output_table:', output_table.shape)"
   ]
  },
  {
   "cell_type": "code",
   "execution_count": null,
   "metadata": {},
   "outputs": [],
   "source": [
    "###\n",
    "### FOOTER\n",
    "###\n",
    "print('Preview output_table (first 5 rows):')\n",
    "try:\n",
    "    # try pretty print in Jupyter Notebook\n",
    "    display(output_table.head())\n",
    "except NameError:\n",
    "    print(output_table.head())"
   ]
  },
  {
   "cell_type": "markdown",
   "metadata": {},
   "source": [
    "## Testing and showing results\n",
    "Don't add this in KNIME"
   ]
  },
  {
   "cell_type": "code",
   "execution_count": 4,
   "metadata": {},
   "outputs": [
    {
     "data": {
      "text/plain": [
       "<matplotlib.axes._subplots.AxesSubplot at 0x7f16ac648fd0>"
      ]
     },
     "execution_count": 4,
     "metadata": {},
     "output_type": "execute_result"
    },
    {
     "data": {
      "image/png": "[encoded data removed]",
      "text/plain": [
       "<Figure size 432x288 with 1 Axes>"
      ]
     },
     "metadata": {},
     "output_type": "display_data"
    }
   ],
   "source": [
    "%matplotlib inline\n",
    "gdf.plot()"
   ]
  },
  {
   "cell_type": "markdown",
   "metadata": {},
   "source": [
    "## Load some input data to test the cells above"
   ]
  },
  {
   "cell_type": "code",
   "execution_count": 122,
   "metadata": {},
   "outputs": [],
   "source": [
    "###\n",
    "### SOURCE - ONLY FOR PREPARATION\n",
    "###\n",
    "from os.path import join\n",
    "folder = '/home/ab/i/Open-data/shapefiles/shp-provincie'\n",
    "filename = 'provincie-grenzen.shp'\n",
    "\n",
    "# read the file\n",
    "gdf = gpd.read_file( join(folder, filename) )\n",
    "gdf = gdf.to_crs(epsg=4326)    # WGS84\n",
    "\n",
    "# output\n",
    "output_table = gdfToDf(gdf)\n",
    "\n",
    "# copy output to input\n",
    "input_table = output_table.copy()"
   ]
  }
 ],
 "metadata": {
  "kernelspec": {
   "display_name": "Python 3",
   "language": "python",
   "name": "python3"
  },
  "language_info": {
   "codemirror_mode": {
    "name": "ipython",
    "version": 3
   },
   "file_extension": ".py",
   "mimetype": "text/x-python",
   "name": "python",
   "nbconvert_exporter": "python",
   "pygments_lexer": "ipython3",
   "version": "3.6.4"
  }
 },
 "nbformat": 4,
 "nbformat_minor": 2
}
