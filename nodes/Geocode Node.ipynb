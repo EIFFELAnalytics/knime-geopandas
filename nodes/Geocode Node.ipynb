{
 "cells": [
  {
   "cell_type": "markdown",
   "metadata": {},
   "source": [
    "# Geocode Node\n",
    "0 -> 1\n",
    "\n",
    "Documentatie Open Route Service (ORS) Python Client: http://openrouteservice-py.readthedocs.io/en/latest/  \n",
    "Documentatie ORS Geocode: https://openrouteservice.org/documentation/#/reference/geocode\n",
    "\n",
    "GeoJSON example: https://en.wikipedia.org/wiki/GeoJSON"
   ]
  },
  {
   "cell_type": "code",
   "execution_count": 25,
   "metadata": {},
   "outputs": [],
   "source": [
    "###\n",
    "### USER DEFINED\n",
    "###\n",
    "\n",
    "# Zoekterm\n",
    "queryText = 'EIFFEL Arnhem'"
   ]
  },
  {
   "cell_type": "code",
   "execution_count": 22,
   "metadata": {},
   "outputs": [],
   "source": [
    "###\n",
    "### HEADER\n",
    "###\n",
    "import pandas as pd\n",
    "from shapely.geometry import shape\n",
    "import openrouteservice\n",
    "from openrouteservice.geocode import pelias_search\n",
    "\n",
    "# initialize ORS with the github ab-os account\n",
    "ORS = openrouteservice.Client(key='58d904a497c67e00015b45fc45f368a7463145e7be57c7563a900810')"
   ]
  },
  {
   "cell_type": "code",
   "execution_count": 27,
   "metadata": {},
   "outputs": [
    {
     "name": "stdout",
     "output_type": "stream",
     "text": [
      "Shape output_table: (1, 2)\n"
     ]
    }
   ],
   "source": [
    "###\n",
    "### GEOCODE\n",
    "###\n",
    "\n",
    "# Pelias search geeft een GeoJSON feature collection terug\n",
    "featureCollection = pelias_search(ORS, queryText, country='NL', size=1)\n",
    "geoJson = featureCollection['features'][0]['geometry']\n",
    "\n",
    "# to geometry\n",
    "geom = shape(geoJson)\n",
    "\n",
    "# output\n",
    "output_table = pd.DataFrame({'query': [queryText], 'wkt': [geom.wkt]})\n",
    "print('Shape output_table:', output_table.shape)"
   ]
  },
  {
   "cell_type": "code",
   "execution_count": 28,
   "metadata": {},
   "outputs": [
    {
     "name": "stdout",
     "output_type": "stream",
     "text": [
      "Preview output_table (first 5 rows):\n"
     ]
    },
    {
     "data": {
      "text/html": [
       "<div>\n",
       "<style scoped>\n",
       "    .dataframe tbody tr th:only-of-type {\n",
       "        vertical-align: middle;\n",
       "    }\n",
       "\n",
       "    .dataframe tbody tr th {\n",
       "        vertical-align: top;\n",
       "    }\n",
       "\n",
       "    .dataframe thead th {\n",
       "        text-align: right;\n",
       "    }\n",
       "</style>\n",
       "<table border=\"1\" class=\"dataframe\">\n",
       "  <thead>\n",
       "    <tr style=\"text-align: right;\">\n",
       "      <th></th>\n",
       "      <th>query</th>\n",
       "      <th>wkt</th>\n",
       "    </tr>\n",
       "  </thead>\n",
       "  <tbody>\n",
       "    <tr>\n",
       "      <th>0</th>\n",
       "      <td>Gounodlaan Eindhoven</td>\n",
       "      <td>POINT (5.915834 51.991032)</td>\n",
       "    </tr>\n",
       "  </tbody>\n",
       "</table>\n",
       "</div>"
      ],
      "text/plain": [
       "                  query                         wkt\n",
       "0  Gounodlaan Eindhoven  POINT (5.915834 51.991032)"
      ]
     },
     "metadata": {},
     "output_type": "display_data"
    }
   ],
   "source": [
    "###\n",
    "### FOOTER\n",
    "###\n",
    "print('Preview output_table (first 5 rows):')\n",
    "try:\n",
    "    # try pretty print in Jupyter Notebook\n",
    "    display(output_table.head())\n",
    "except NameError:\n",
    "    print(output_table.head())"
   ]
  }
 ],
 "metadata": {
  "kernelspec": {
   "display_name": "Python 3",
   "language": "python",
   "name": "python3"
  },
  "language_info": {
   "codemirror_mode": {
    "name": "ipython",
    "version": 3
   },
   "file_extension": ".py",
   "mimetype": "text/x-python",
   "name": "python",
   "nbconvert_exporter": "python",
   "pygments_lexer": "ipython3",
   "version": "3.6.4"
  }
 },
 "nbformat": 4,
 "nbformat_minor": 2
}
