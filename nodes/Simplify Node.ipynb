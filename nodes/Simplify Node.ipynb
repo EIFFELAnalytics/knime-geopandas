{
 "cells": [
  {
   "cell_type": "markdown",
   "metadata": {},
   "source": [
    "# Simplify Node\n",
    "1 -> 1\n",
    "\n",
    "Documentation: https://toblerity.org/shapely/manual.html#object.simplify\n",
    "\n",
    "~~*Note:* make sure to edit `simplifyThreshold`!~~ Niet nodig, want nu zit er een dynamische simplificatie in met als threshold 0.1% van de omtrek van de polygoon."
   ]
  },
  {
   "cell_type": "code",
   "execution_count": null,
   "metadata": {},
   "outputs": [],
   "source": [
    "###\n",
    "### USER DEFINED\n",
    "###\n",
    "\n",
    "# Threshold in dezelfde eenheid als de projectie\n",
    "#   * RD New: meters\n",
    "#   * WGS84: graden. In Nederland 1 m ~= 1e-5 graden\n",
    "#simplifyThreshold = 1e-5    # niet nodig met dynamic simplify!"
   ]
  },
  {
   "cell_type": "code",
   "execution_count": 120,
   "metadata": {},
   "outputs": [],
   "source": [
    "###\n",
    "### HEADER\n",
    "###\n",
    "import geopandas as gpd\n",
    "import pandas as pd\n",
    "from shapely import wkt as WKT\n",
    "import re\n",
    "import numpy as np\n",
    "\n",
    "# geopandas (geometry) to pandas (wkt)\n",
    "def gdfToDf(gdf):\n",
    "    df = pd.DataFrame(gdf, copy=True)\n",
    "    df['wkt'] = gdf.geometry.apply(WKT.dumps, trim=True)\n",
    "    df.drop(columns='geometry', inplace=True)\n",
    "    return df\n",
    "\n",
    "# pandas (wkt) to geopandas (geometry)\n",
    "def dfToGdf(df):\n",
    "    gdf = gpd.GeoDataFrame(df, copy=True)\n",
    "    gdf['geometry'] = df.wkt.apply(WKT.loads)\n",
    "    gdf.drop(columns='wkt', inplace=True)\n",
    "    return gdf\n",
    "\n",
    "# bereken wat extra info (vind ik interessant)\n",
    "def extractInfo(wkt, *args):\n",
    "    # calculate specs\n",
    "    info = {'points': len(wkt.split(',')),\\\n",
    "            'chars': len(wkt),\\\n",
    "            'precision': np.mean([len(decimals) for decimals in re.findall('\\.([0-9]*)', wkt)])}\n",
    "    # return dictionary or list with values of one spec\n",
    "    if not args:\n",
    "        return info\n",
    "    else:\n",
    "        return info.get(args[0])"
   ]
  },
  {
   "cell_type": "code",
   "execution_count": 123,
   "metadata": {},
   "outputs": [
    {
     "name": "stdout",
     "output_type": "stream",
     "text": [
      "Shape input_table: (12, 3)\n",
      "Average # points/polygon: 12379.6\n",
      "Shape output_table: (12, 3)\n",
      "Average # points/polygon: 163.2\n"
     ]
    }
   ],
   "source": [
    "###\n",
    "### SIMPLIFY\n",
    "###\n",
    "\n",
    "# input\n",
    "gdf = dfToGdf(input_table)\n",
    "print('Shape input_table:', input_table.shape)\n",
    "print('Average # points/polygon: %.1f' % np.mean(input_table.wkt.apply(extractInfo, args=('points',))))\n",
    "\n",
    "# simplify with fixed threshold\n",
    "#gdf.geometry = gdf.geometry.simplify(simplifyThreshold, preserve_topology=True)\n",
    "\n",
    "# dynamic simplify. Threshold is 0.1% van de omtrek\n",
    "dynamicSimplify = lambda geom: geom.simplify(geom.length*0.001, preserve_topology=True)\n",
    "gdf.geometry = gdf.geometry.apply(dynamicSimplify)\n",
    "\n",
    "# output\n",
    "output_table = gdfToDf(gdf)\n",
    "print('Shape output_table:', output_table.shape)\n",
    "print('Average # points/polygon: %.1f' % np.mean(output_table.wkt.apply(extractInfo, args=('points',))))"
   ]
  },
  {
   "cell_type": "code",
   "execution_count": 124,
   "metadata": {},
   "outputs": [
    {
     "name": "stdout",
     "output_type": "stream",
     "text": [
      "Preview output_table (first 5 rows):\n"
     ]
    },
    {
     "data": {
      "text/html": [
       "<div>\n",
       "<style scoped>\n",
       "    .dataframe tbody tr th:only-of-type {\n",
       "        vertical-align: middle;\n",
       "    }\n",
       "\n",
       "    .dataframe tbody tr th {\n",
       "        vertical-align: top;\n",
       "    }\n",
       "\n",
       "    .dataframe thead th {\n",
       "        text-align: right;\n",
       "    }\n",
       "</style>\n",
       "<table border=\"1\" class=\"dataframe\">\n",
       "  <thead>\n",
       "    <tr style=\"text-align: right;\">\n",
       "      <th></th>\n",
       "      <th>id</th>\n",
       "      <th>provincien</th>\n",
       "      <th>wkt</th>\n",
       "    </tr>\n",
       "  </thead>\n",
       "  <tbody>\n",
       "    <tr>\n",
       "      <th>0</th>\n",
       "      <td>1</td>\n",
       "      <td>Noord-Holland</td>\n",
       "      <td>MULTIPOLYGON (((5.16595803513613 53.0011795601...</td>\n",
       "    </tr>\n",
       "    <tr>\n",
       "      <th>1</th>\n",
       "      <td>2</td>\n",
       "      <td>Groningen</td>\n",
       "      <td>MULTIPOLYGON (((6.287547703816826 53.342509935...</td>\n",
       "    </tr>\n",
       "    <tr>\n",
       "      <th>2</th>\n",
       "      <td>3</td>\n",
       "      <td>Overijssel</td>\n",
       "      <td>MULTIPOLYGON (((6.110121318419511 52.441553119...</td>\n",
       "    </tr>\n",
       "    <tr>\n",
       "      <th>3</th>\n",
       "      <td>4</td>\n",
       "      <td>Zeeland</td>\n",
       "      <td>MULTIPOLYGON (((3.83923160158486 51.7592703536...</td>\n",
       "    </tr>\n",
       "    <tr>\n",
       "      <th>4</th>\n",
       "      <td>5</td>\n",
       "      <td>Friesland</td>\n",
       "      <td>MULTIPOLYGON (((6.191971949520441 53.412179416...</td>\n",
       "    </tr>\n",
       "  </tbody>\n",
       "</table>\n",
       "</div>"
      ],
      "text/plain": [
       "   id     provincien                                                wkt\n",
       "0   1  Noord-Holland  MULTIPOLYGON (((5.16595803513613 53.0011795601...\n",
       "1   2      Groningen  MULTIPOLYGON (((6.287547703816826 53.342509935...\n",
       "2   3     Overijssel  MULTIPOLYGON (((6.110121318419511 52.441553119...\n",
       "3   4        Zeeland  MULTIPOLYGON (((3.83923160158486 51.7592703536...\n",
       "4   5      Friesland  MULTIPOLYGON (((6.191971949520441 53.412179416..."
      ]
     },
     "metadata": {},
     "output_type": "display_data"
    }
   ],
   "source": [
    "###\n",
    "### FOOTER\n",
    "###\n",
    "print('Preview output_table (first 5 rows):')\n",
    "try:\n",
    "    # try pretty print in Jupyter Notebook\n",
    "    display(output_table.head())\n",
    "except NameError:\n",
    "    print(output_table.head())"
   ]
  },
  {
   "cell_type": "markdown",
   "metadata": {},
   "source": [
    "## Testing and showing results\n",
    "Don't add this in KNIME"
   ]
  },
  {
   "cell_type": "code",
   "execution_count": null,
   "metadata": {},
   "outputs": [],
   "source": [
    "%matplotlib inline\n",
    "gdf.plot()"
   ]
  },
  {
   "cell_type": "markdown",
   "metadata": {},
   "source": [
    "## Load some input data to test the cells above\n",
    "Run `Header` node first!"
   ]
  },
  {
   "cell_type": "code",
   "execution_count": 122,
   "metadata": {},
   "outputs": [],
   "source": [
    "###\n",
    "### SOURCE - ONLY FOR PREPARATION\n",
    "###\n",
    "from os.path import join\n",
    "folder = '/home/ab/i/Open-data/shapefiles/shp-provincie'\n",
    "filename = 'provincie-grenzen.shp'\n",
    "\n",
    "# read the file\n",
    "gdf = gpd.read_file( join(folder, filename) )\n",
    "gdf = gdf.to_crs(epsg=4326)    # WGS84\n",
    "\n",
    "# output\n",
    "output_table = gdfToDf(gdf)\n",
    "\n",
    "# copy output to input\n",
    "input_table = output_table.copy()"
   ]
  },
  {
   "cell_type": "markdown",
   "metadata": {},
   "source": [
    "## Onderzoek hoeveel punten willen we per polygon?\n",
    "Om zo tot max 32k characters per WKT te komen"
   ]
  },
  {
   "cell_type": "code",
   "execution_count": null,
   "metadata": {},
   "outputs": [],
   "source": [
    "# pak even rij nummer n\n",
    "n = 3\n",
    "wkt0 = output_table.loc[n, 'wkt']\n",
    "geom = gdf.loc[n, 'geometry']\n",
    "\n",
    "nChars = len(wkt0)\n",
    "nPoints = len(geom.exterior.coords.xy[0])\n",
    "print('Amount of characters in WKT:', nChars)\n",
    "print('Amount of points in polygon:', nPoints)\n",
    "print('Amount of characters per point:', nChars/nPoints)\n",
    "print('Length (perimeter):', geom.length)\n",
    "\n",
    "excelMax = 32767    # chars per cell\n",
    "maxPoints = excelMax/(nChars/nPoints)\n",
    "print('Approx. max points per polygon for Excel:', maxPoints)\n",
    "geom"
   ]
  },
  {
   "cell_type": "code",
   "execution_count": null,
   "metadata": {},
   "outputs": [],
   "source": [
    "# simplify met 0.1% van omtrek\n",
    "O = geom.length*0.001\n",
    "geomS = geom.simplify(O, preserve_topology=True)\n",
    "\n",
    "nChars = len(geomS.wkt)\n",
    "nPoints = len(geomS.exterior.coords.xy[0])\n",
    "print('Amount of characters in WKT:', nChars)\n",
    "print('Amount of points in polygon:', nPoints)\n",
    "geomS"
   ]
  }
 ],
 "metadata": {
  "kernelspec": {
   "display_name": "Python 3",
   "language": "python",
   "name": "python3"
  },
  "language_info": {
   "codemirror_mode": {
    "name": "ipython",
    "version": 3
   },
   "file_extension": ".py",
   "mimetype": "text/x-python",
   "name": "python",
   "nbconvert_exporter": "python",
   "pygments_lexer": "ipython3",
   "version": "3.6.4"
  }
 },
 "nbformat": 4,
 "nbformat_minor": 2
}
