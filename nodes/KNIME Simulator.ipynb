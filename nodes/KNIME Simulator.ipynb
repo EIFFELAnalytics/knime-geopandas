{
 "cells": [
  {
   "cell_type": "markdown",
   "metadata": {},
   "source": [
    "# Runbook\n",
    "A notebook which runs other notebooks using `papermill`. It tries to simulate KNIME, passing around `input_table` and `output_table`.\n",
    "\n",
    "Run *this* notebook in the `base` environment; the Python 3 kernel. There `papermill` is installed and `ipywidgets` installed and enabled.\n",
    "\n",
    "*Note:* The other notebooks (KNIME nodes) should run in the `geopandas` virtual environment which has all the packages for geodata processing. `ipykernel` is installed there to create a kernel."
   ]
  },
  {
   "cell_type": "code",
   "execution_count": 1,
   "metadata": {},
   "outputs": [],
   "source": [
    "import papermill as pm\n",
    "import pandas as pd"
   ]
  },
  {
   "cell_type": "markdown",
   "metadata": {},
   "source": [
    "## Passing data from node to node\n",
    "It is possible to supply input parameters (as a `dict`) to the notebooks. These parameters have to be JSON serializable and unfortunately pandas data frames are not. \n",
    "\n",
    "Data frames should be converted to JSON (`to_json()`). These JSON are passed from cell to cell as `input_json` and `output_json`. Inside the nodes (notebooks) there are some development cells for parsing."
   ]
  },
  {
   "cell_type": "code",
   "execution_count": 3,
   "metadata": {},
   "outputs": [],
   "source": [
    "# Generic notebook run\n",
    "def knime_node(notebook_name, parameters):\n",
    "    # Execute the notebook\n",
    "    pm.execute_notebook(\n",
    "       notebook_name,\n",
    "       notebook_name,\n",
    "       parameters = parameters\n",
    "    )\n",
    "    \n",
    "    # Read and return the output table (and a JSON)\n",
    "    nb = pm.read_notebook(notebook_name)\n",
    "    output_json = nb.dataframe[nb.dataframe.name == 'output_table']['value'].iat[0]\n",
    "    output_table = pd.read_json(output_json)\n",
    "    return (output_json, output_table)"
   ]
  },
  {
   "cell_type": "markdown",
   "metadata": {},
   "source": [
    "## Source"
   ]
  },
  {
   "cell_type": "code",
   "execution_count": 4,
   "metadata": {},
   "outputs": [
    {
     "data": {
      "application/vnd.jupyter.widget-view+json": {
       "model_id": "41bf8589de8c41f5a80898e2a2740218",
       "version_major": 2,
       "version_minor": 0
      },
      "text/plain": [
       "HBox(children=(IntProgress(value=0, max=6), HTML(value='')))"
      ]
     },
     "metadata": {},
     "output_type": "display_data"
    },
    {
     "name": "stdout",
     "output_type": "stream",
     "text": [
      "\n"
     ]
    },
    {
     "data": {
      "text/html": [
       "<div>\n",
       "<style scoped>\n",
       "    .dataframe tbody tr th:only-of-type {\n",
       "        vertical-align: middle;\n",
       "    }\n",
       "\n",
       "    .dataframe tbody tr th {\n",
       "        vertical-align: top;\n",
       "    }\n",
       "\n",
       "    .dataframe thead th {\n",
       "        text-align: right;\n",
       "    }\n",
       "</style>\n",
       "<table border=\"1\" class=\"dataframe\">\n",
       "  <thead>\n",
       "    <tr style=\"text-align: right;\">\n",
       "      <th></th>\n",
       "      <th>id</th>\n",
       "      <th>provincien</th>\n",
       "      <th>wkt</th>\n",
       "    </tr>\n",
       "  </thead>\n",
       "  <tbody>\n",
       "    <tr>\n",
       "      <th>0</th>\n",
       "      <td>1</td>\n",
       "      <td>Noord-Holland</td>\n",
       "      <td>MULTIPOLYGON (((140119.7695681169 557037.39335...</td>\n",
       "    </tr>\n",
       "    <tr>\n",
       "      <th>1</th>\n",
       "      <td>2</td>\n",
       "      <td>Groningen</td>\n",
       "      <td>MULTIPOLYGON (((214930.61 595370.8100000001, 2...</td>\n",
       "    </tr>\n",
       "    <tr>\n",
       "      <th>10</th>\n",
       "      <td>11</td>\n",
       "      <td>Gelderland</td>\n",
       "      <td>MULTIPOLYGON (((170028.343 445109.103, 169993....</td>\n",
       "    </tr>\n",
       "    <tr>\n",
       "      <th>11</th>\n",
       "      <td>12</td>\n",
       "      <td>Noord-Brabant</td>\n",
       "      <td>MULTIPOLYGON (((122802.846 383738.555, 122804....</td>\n",
       "    </tr>\n",
       "    <tr>\n",
       "      <th>2</th>\n",
       "      <td>3</td>\n",
       "      <td>Overijssel</td>\n",
       "      <td>MULTIPOLYGON (((204118.188 494995.02, 204081.2...</td>\n",
       "    </tr>\n",
       "  </tbody>\n",
       "</table>\n",
       "</div>"
      ],
      "text/plain": [
       "    id     provincien                                                wkt\n",
       "0    1  Noord-Holland  MULTIPOLYGON (((140119.7695681169 557037.39335...\n",
       "1    2      Groningen  MULTIPOLYGON (((214930.61 595370.8100000001, 2...\n",
       "10  11     Gelderland  MULTIPOLYGON (((170028.343 445109.103, 169993....\n",
       "11  12  Noord-Brabant  MULTIPOLYGON (((122802.846 383738.555, 122804....\n",
       "2    3     Overijssel  MULTIPOLYGON (((204118.188 494995.02, 204081.2..."
      ]
     },
     "execution_count": 4,
     "metadata": {},
     "output_type": "execute_result"
    }
   ],
   "source": [
    "# First setup the parameters we need\n",
    "parameters = dict(\n",
    "    folder = r'/home/ab/Documents/Open-data/shapefiles/shp-provincie',\n",
    "    filename = r'provincie-grenzen.shp'\n",
    ")\n",
    "\n",
    "# Run the KNIME node\n",
    "(output_json, output_table) = knime_node('Source Node.ipynb', parameters)\n",
    "output_table.head()"
   ]
  },
  {
   "cell_type": "markdown",
   "metadata": {},
   "source": [
    "## Reduce the precision\n",
    "Geef het aantal decimalen achter de komma aan. De eenheid is in dezelfde eenheid als de projectie.\n",
    "* RD New: in meters\n",
    "* WGS84: in graden. In Nederland 1 m ~ 1e-5 graden"
   ]
  },
  {
   "cell_type": "code",
   "execution_count": 13,
   "metadata": {
    "scrolled": true
   },
   "outputs": [
    {
     "data": {
      "application/vnd.jupyter.widget-view+json": {
       "model_id": "82979bb5df59475187d97335079794cb",
       "version_major": 2,
       "version_minor": 0
      },
      "text/plain": [
       "HBox(children=(IntProgress(value=0, max=8), HTML(value='')))"
      ]
     },
     "metadata": {},
     "output_type": "display_data"
    },
    {
     "name": "stdout",
     "output_type": "stream",
     "text": [
      "\n"
     ]
    },
    {
     "data": {
      "text/html": [
       "<div>\n",
       "<style scoped>\n",
       "    .dataframe tbody tr th:only-of-type {\n",
       "        vertical-align: middle;\n",
       "    }\n",
       "\n",
       "    .dataframe tbody tr th {\n",
       "        vertical-align: top;\n",
       "    }\n",
       "\n",
       "    .dataframe thead th {\n",
       "        text-align: right;\n",
       "    }\n",
       "</style>\n",
       "<table border=\"1\" class=\"dataframe\">\n",
       "  <thead>\n",
       "    <tr style=\"text-align: right;\">\n",
       "      <th></th>\n",
       "      <th>id</th>\n",
       "      <th>provincien</th>\n",
       "      <th>wkt</th>\n",
       "    </tr>\n",
       "  </thead>\n",
       "  <tbody>\n",
       "    <tr>\n",
       "      <th>0</th>\n",
       "      <td>1</td>\n",
       "      <td>Noord-Holland</td>\n",
       "      <td>MULTIPOLYGON (((140119.76 557037.39, 140142.83...</td>\n",
       "    </tr>\n",
       "    <tr>\n",
       "      <th>1</th>\n",
       "      <td>2</td>\n",
       "      <td>Groningen</td>\n",
       "      <td>MULTIPOLYGON (((214930.61 595370.81, 214743.01...</td>\n",
       "    </tr>\n",
       "    <tr>\n",
       "      <th>10</th>\n",
       "      <td>11</td>\n",
       "      <td>Gelderland</td>\n",
       "      <td>MULTIPOLYGON (((170028.34 445109.10, 169993.08...</td>\n",
       "    </tr>\n",
       "    <tr>\n",
       "      <th>11</th>\n",
       "      <td>12</td>\n",
       "      <td>Noord-Brabant</td>\n",
       "      <td>MULTIPOLYGON (((122802.84 383738.55, 122804.31...</td>\n",
       "    </tr>\n",
       "    <tr>\n",
       "      <th>2</th>\n",
       "      <td>3</td>\n",
       "      <td>Overijssel</td>\n",
       "      <td>MULTIPOLYGON (((204118.18 494995.02, 204081.24...</td>\n",
       "    </tr>\n",
       "  </tbody>\n",
       "</table>\n",
       "</div>"
      ],
      "text/plain": [
       "    id     provincien                                                wkt\n",
       "0    1  Noord-Holland  MULTIPOLYGON (((140119.76 557037.39, 140142.83...\n",
       "1    2      Groningen  MULTIPOLYGON (((214930.61 595370.81, 214743.01...\n",
       "10  11     Gelderland  MULTIPOLYGON (((170028.34 445109.10, 169993.08...\n",
       "11  12  Noord-Brabant  MULTIPOLYGON (((122802.84 383738.55, 122804.31...\n",
       "2    3     Overijssel  MULTIPOLYGON (((204118.18 494995.02, 204081.24..."
      ]
     },
     "execution_count": 13,
     "metadata": {},
     "output_type": "execute_result"
    }
   ],
   "source": [
    "# Met RD New, 2 decimalen is cm nauwkeurig\n",
    "parameters = dict(input_json = output_json, decimals = 2)\n",
    "\n",
    "#\n",
    "(output_json, output_table) = knime_node('Reduce Precision Node.ipynb', parameters)\n",
    "output_table.head()"
   ]
  },
  {
   "cell_type": "markdown",
   "metadata": {},
   "source": [
    "## Convert to AC"
   ]
  },
  {
   "cell_type": "code",
   "execution_count": 17,
   "metadata": {},
   "outputs": [
    {
     "data": {
      "application/vnd.jupyter.widget-view+json": {
       "model_id": "07c73cf503f749afb38af45c44e27a53",
       "version_major": 2,
       "version_minor": 0
      },
      "text/plain": [
       "HBox(children=(IntProgress(value=0, max=6), HTML(value='')))"
      ]
     },
     "metadata": {},
     "output_type": "display_data"
    },
    {
     "name": "stdout",
     "output_type": "stream",
     "text": [
      "\n"
     ]
    },
    {
     "data": {
      "text/html": [
       "<div>\n",
       "<style scoped>\n",
       "    .dataframe tbody tr th:only-of-type {\n",
       "        vertical-align: middle;\n",
       "    }\n",
       "\n",
       "    .dataframe tbody tr th {\n",
       "        vertical-align: top;\n",
       "    }\n",
       "\n",
       "    .dataframe thead th {\n",
       "        text-align: right;\n",
       "    }\n",
       "</style>\n",
       "<table border=\"1\" class=\"dataframe\">\n",
       "  <thead>\n",
       "    <tr style=\"text-align: right;\">\n",
       "      <th></th>\n",
       "      <th>id</th>\n",
       "      <th>provincien</th>\n",
       "      <th>wkt</th>\n",
       "      <th>AC</th>\n",
       "    </tr>\n",
       "  </thead>\n",
       "  <tbody>\n",
       "    <tr>\n",
       "      <th>0</th>\n",
       "      <td>1</td>\n",
       "      <td>Noord-Holland</td>\n",
       "      <td>MULTIPOLYGON (((140119.76 557037.39, 140142.83...</td>\n",
       "      <td>140119.76,557037.39:140142.83,557010.64:140170...</td>\n",
       "    </tr>\n",
       "    <tr>\n",
       "      <th>1</th>\n",
       "      <td>2</td>\n",
       "      <td>Groningen</td>\n",
       "      <td>MULTIPOLYGON (((214930.61 595370.81, 214743.01...</td>\n",
       "      <td>214930.61,595370.81:214743.01,595404.8:214635....</td>\n",
       "    </tr>\n",
       "    <tr>\n",
       "      <th>10</th>\n",
       "      <td>11</td>\n",
       "      <td>Gelderland</td>\n",
       "      <td>MULTIPOLYGON (((170028.34 445109.10, 169993.08...</td>\n",
       "      <td>170028.34,445109.10:169993.08,445096.36:169963...</td>\n",
       "    </tr>\n",
       "    <tr>\n",
       "      <th>11</th>\n",
       "      <td>12</td>\n",
       "      <td>Noord-Brabant</td>\n",
       "      <td>MULTIPOLYGON (((122802.84 383738.55, 122804.31...</td>\n",
       "      <td>122802.84,383738.55:122804.31,383742.16:122807...</td>\n",
       "    </tr>\n",
       "    <tr>\n",
       "      <th>2</th>\n",
       "      <td>3</td>\n",
       "      <td>Overijssel</td>\n",
       "      <td>MULTIPOLYGON (((204118.18 494995.02, 204081.24...</td>\n",
       "      <td>204118.18,494995.02:204081.24,495019.16:204010...</td>\n",
       "    </tr>\n",
       "  </tbody>\n",
       "</table>\n",
       "</div>"
      ],
      "text/plain": [
       "    id     provincien                                                wkt  \\\n",
       "0    1  Noord-Holland  MULTIPOLYGON (((140119.76 557037.39, 140142.83...   \n",
       "1    2      Groningen  MULTIPOLYGON (((214930.61 595370.81, 214743.01...   \n",
       "10  11     Gelderland  MULTIPOLYGON (((170028.34 445109.10, 169993.08...   \n",
       "11  12  Noord-Brabant  MULTIPOLYGON (((122802.84 383738.55, 122804.31...   \n",
       "2    3     Overijssel  MULTIPOLYGON (((204118.18 494995.02, 204081.24...   \n",
       "\n",
       "                                                   AC  \n",
       "0   140119.76,557037.39:140142.83,557010.64:140170...  \n",
       "1   214930.61,595370.81:214743.01,595404.8:214635....  \n",
       "10  170028.34,445109.10:169993.08,445096.36:169963...  \n",
       "11  122802.84,383738.55:122804.31,383742.16:122807...  \n",
       "2   204118.18,494995.02:204081.24,495019.16:204010...  "
      ]
     },
     "execution_count": 17,
     "metadata": {},
     "output_type": "execute_result"
    }
   ],
   "source": [
    "#\n",
    "parameters = dict(input_json = output_json)\n",
    "\n",
    "#\n",
    "(_, output_table) = knime_node('WKT To AC Node.ipynb', parameters)\n",
    "output_table.head()"
   ]
  },
  {
   "cell_type": "markdown",
   "metadata": {},
   "source": [
    "## Development below\n",
    "Mind your step."
   ]
  },
  {
   "cell_type": "code",
   "execution_count": null,
   "metadata": {},
   "outputs": [],
   "source": [
    "output_json"
   ]
  },
  {
   "cell_type": "code",
   "execution_count": null,
   "metadata": {},
   "outputs": [],
   "source": [
    "import re\n",
    "# Match all numbers with more than `decimals` numbers behind the dot\n",
    "# Replace that match with the captured group, thus removing abundant decimals\n",
    "input_json = re.sub(r'([0-9]+\\.[0-9]{1})[0-9]+', r'\\1', output_json)"
   ]
  },
  {
   "cell_type": "code",
   "execution_count": null,
   "metadata": {},
   "outputs": [],
   "source": [
    "re.findall(r'[0-9]\\.([0-9]*)', input_json)"
   ]
  },
  {
   "cell_type": "code",
   "execution_count": null,
   "metadata": {},
   "outputs": [],
   "source": [
    "np.mean([len(decimals) for decimals in re.findall('\\.([0-9]*)', wkt)])"
   ]
  },
  {
   "cell_type": "code",
   "execution_count": null,
   "metadata": {},
   "outputs": [],
   "source": [
    "output_table.head()"
   ]
  },
  {
   "cell_type": "code",
   "execution_count": null,
   "metadata": {},
   "outputs": [],
   "source": [
    "pd.read_json(input_json).head()"
   ]
  },
  {
   "cell_type": "code",
   "execution_count": null,
   "metadata": {},
   "outputs": [],
   "source": []
  }
 ],
 "metadata": {
  "kernelspec": {
   "display_name": "Python 3",
   "language": "python",
   "name": "python3"
  },
  "language_info": {
   "codemirror_mode": {
    "name": "ipython",
    "version": 3
   },
   "file_extension": ".py",
   "mimetype": "text/x-python",
   "name": "python",
   "nbconvert_exporter": "python",
   "pygments_lexer": "ipython3",
   "version": "3.7.2"
  }
 },
 "nbformat": 4,
 "nbformat_minor": 2
}
